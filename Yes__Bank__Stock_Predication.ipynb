{
  "cells": [
    {
      "cell_type": "markdown",
      "metadata": {
        "id": "view-in-github",
        "colab_type": "text"
      },
      "source": [
        "<a href=\"https://colab.research.google.com/github/sunanda-debnath/Yes-Bank-Stock-Predication/blob/main/Yes__Bank__Stock_Predication.ipynb\" target=\"_parent\"><img src=\"https://colab.research.google.com/assets/colab-badge.svg\" alt=\"Open In Colab\"/></a>"
      ]
    },
    {
      "cell_type": "code",
      "execution_count": 1,
      "metadata": {
        "id": "PdTj4bCArLU1"
      },
      "outputs": [],
      "source": [
        "#Importing libraries\n",
        "import pandas as pd\n",
        "import numpy as np\n",
        "import matplotlib.pyplot as plt\n",
        "import seaborn as sns\n",
        "from numpy import math\n",
        "import warnings\n",
        "warnings.filterwarnings('ignore')\n",
        "\n",
        "from scipy.stats import zscore\n",
        "from sklearn.model_selection import train_test_split\n",
        "\n",
        "from sklearn.model_selection import GridSearchCV\n",
        "\n",
        "from sklearn.linear_model import LinearRegression, Lasso, Ridge, ElasticNet\n",
        "\n",
        "\n",
        "#Model Evaluation \n",
        "from sklearn.metrics import r2_score\n",
        "from sklearn.metrics import mean_squared_error\n",
        "from sklearn.metrics import mean_absolute_percentage_error"
      ]
    },
    {
      "cell_type": "code",
      "execution_count": 2,
      "metadata": {
        "id": "JqvcZhZdsis8",
        "colab": {
          "base_uri": "https://localhost:8080/"
        },
        "outputId": "6605378c-250d-41fa-dfe0-d976912ac4a4"
      },
      "outputs": [
        {
          "output_type": "stream",
          "name": "stdout",
          "text": [
            "Mounted at /content/drive\n"
          ]
        }
      ],
      "source": [
        "from google.colab import drive\n",
        "drive.mount('/content/drive')"
      ]
    },
    {
      "cell_type": "code",
      "execution_count": 3,
      "metadata": {
        "id": "T8t0bVnlsm6U"
      },
      "outputs": [],
      "source": [
        "df=pd.read_csv('/content/drive/MyDrive/project 2/data_YesBank_StockPrices.csv')"
      ]
    },
    {
      "cell_type": "code",
      "execution_count": 4,
      "metadata": {
        "colab": {
          "base_uri": "https://localhost:8080/",
          "height": 206
        },
        "id": "21aE130psy98",
        "outputId": "1a1553f4-7b25-42d2-d05e-8094672e89dc"
      },
      "outputs": [
        {
          "output_type": "execute_result",
          "data": {
            "text/plain": [
              "     Date   Open   High    Low  Close\n",
              "0  Jul-05  13.00  14.00  11.25  12.46\n",
              "1  Aug-05  12.58  14.88  12.55  13.42\n",
              "2  Sep-05  13.48  14.87  12.27  13.30\n",
              "3  Oct-05  13.20  14.47  12.40  12.99\n",
              "4  Nov-05  13.35  13.88  12.88  13.41"
            ],
            "text/html": [
              "\n",
              "  <div id=\"df-acabeaf0-8bb7-4945-a815-a89a8c3c85ef\">\n",
              "    <div class=\"colab-df-container\">\n",
              "      <div>\n",
              "<style scoped>\n",
              "    .dataframe tbody tr th:only-of-type {\n",
              "        vertical-align: middle;\n",
              "    }\n",
              "\n",
              "    .dataframe tbody tr th {\n",
              "        vertical-align: top;\n",
              "    }\n",
              "\n",
              "    .dataframe thead th {\n",
              "        text-align: right;\n",
              "    }\n",
              "</style>\n",
              "<table border=\"1\" class=\"dataframe\">\n",
              "  <thead>\n",
              "    <tr style=\"text-align: right;\">\n",
              "      <th></th>\n",
              "      <th>Date</th>\n",
              "      <th>Open</th>\n",
              "      <th>High</th>\n",
              "      <th>Low</th>\n",
              "      <th>Close</th>\n",
              "    </tr>\n",
              "  </thead>\n",
              "  <tbody>\n",
              "    <tr>\n",
              "      <th>0</th>\n",
              "      <td>Jul-05</td>\n",
              "      <td>13.00</td>\n",
              "      <td>14.00</td>\n",
              "      <td>11.25</td>\n",
              "      <td>12.46</td>\n",
              "    </tr>\n",
              "    <tr>\n",
              "      <th>1</th>\n",
              "      <td>Aug-05</td>\n",
              "      <td>12.58</td>\n",
              "      <td>14.88</td>\n",
              "      <td>12.55</td>\n",
              "      <td>13.42</td>\n",
              "    </tr>\n",
              "    <tr>\n",
              "      <th>2</th>\n",
              "      <td>Sep-05</td>\n",
              "      <td>13.48</td>\n",
              "      <td>14.87</td>\n",
              "      <td>12.27</td>\n",
              "      <td>13.30</td>\n",
              "    </tr>\n",
              "    <tr>\n",
              "      <th>3</th>\n",
              "      <td>Oct-05</td>\n",
              "      <td>13.20</td>\n",
              "      <td>14.47</td>\n",
              "      <td>12.40</td>\n",
              "      <td>12.99</td>\n",
              "    </tr>\n",
              "    <tr>\n",
              "      <th>4</th>\n",
              "      <td>Nov-05</td>\n",
              "      <td>13.35</td>\n",
              "      <td>13.88</td>\n",
              "      <td>12.88</td>\n",
              "      <td>13.41</td>\n",
              "    </tr>\n",
              "  </tbody>\n",
              "</table>\n",
              "</div>\n",
              "      <button class=\"colab-df-convert\" onclick=\"convertToInteractive('df-acabeaf0-8bb7-4945-a815-a89a8c3c85ef')\"\n",
              "              title=\"Convert this dataframe to an interactive table.\"\n",
              "              style=\"display:none;\">\n",
              "        \n",
              "  <svg xmlns=\"http://www.w3.org/2000/svg\" height=\"24px\"viewBox=\"0 0 24 24\"\n",
              "       width=\"24px\">\n",
              "    <path d=\"M0 0h24v24H0V0z\" fill=\"none\"/>\n",
              "    <path d=\"M18.56 5.44l.94 2.06.94-2.06 2.06-.94-2.06-.94-.94-2.06-.94 2.06-2.06.94zm-11 1L8.5 8.5l.94-2.06 2.06-.94-2.06-.94L8.5 2.5l-.94 2.06-2.06.94zm10 10l.94 2.06.94-2.06 2.06-.94-2.06-.94-.94-2.06-.94 2.06-2.06.94z\"/><path d=\"M17.41 7.96l-1.37-1.37c-.4-.4-.92-.59-1.43-.59-.52 0-1.04.2-1.43.59L10.3 9.45l-7.72 7.72c-.78.78-.78 2.05 0 2.83L4 21.41c.39.39.9.59 1.41.59.51 0 1.02-.2 1.41-.59l7.78-7.78 2.81-2.81c.8-.78.8-2.07 0-2.86zM5.41 20L4 18.59l7.72-7.72 1.47 1.35L5.41 20z\"/>\n",
              "  </svg>\n",
              "      </button>\n",
              "      \n",
              "  <style>\n",
              "    .colab-df-container {\n",
              "      display:flex;\n",
              "      flex-wrap:wrap;\n",
              "      gap: 12px;\n",
              "    }\n",
              "\n",
              "    .colab-df-convert {\n",
              "      background-color: #E8F0FE;\n",
              "      border: none;\n",
              "      border-radius: 50%;\n",
              "      cursor: pointer;\n",
              "      display: none;\n",
              "      fill: #1967D2;\n",
              "      height: 32px;\n",
              "      padding: 0 0 0 0;\n",
              "      width: 32px;\n",
              "    }\n",
              "\n",
              "    .colab-df-convert:hover {\n",
              "      background-color: #E2EBFA;\n",
              "      box-shadow: 0px 1px 2px rgba(60, 64, 67, 0.3), 0px 1px 3px 1px rgba(60, 64, 67, 0.15);\n",
              "      fill: #174EA6;\n",
              "    }\n",
              "\n",
              "    [theme=dark] .colab-df-convert {\n",
              "      background-color: #3B4455;\n",
              "      fill: #D2E3FC;\n",
              "    }\n",
              "\n",
              "    [theme=dark] .colab-df-convert:hover {\n",
              "      background-color: #434B5C;\n",
              "      box-shadow: 0px 1px 3px 1px rgba(0, 0, 0, 0.15);\n",
              "      filter: drop-shadow(0px 1px 2px rgba(0, 0, 0, 0.3));\n",
              "      fill: #FFFFFF;\n",
              "    }\n",
              "  </style>\n",
              "\n",
              "      <script>\n",
              "        const buttonEl =\n",
              "          document.querySelector('#df-acabeaf0-8bb7-4945-a815-a89a8c3c85ef button.colab-df-convert');\n",
              "        buttonEl.style.display =\n",
              "          google.colab.kernel.accessAllowed ? 'block' : 'none';\n",
              "\n",
              "        async function convertToInteractive(key) {\n",
              "          const element = document.querySelector('#df-acabeaf0-8bb7-4945-a815-a89a8c3c85ef');\n",
              "          const dataTable =\n",
              "            await google.colab.kernel.invokeFunction('convertToInteractive',\n",
              "                                                     [key], {});\n",
              "          if (!dataTable) return;\n",
              "\n",
              "          const docLinkHtml = 'Like what you see? Visit the ' +\n",
              "            '<a target=\"_blank\" href=https://colab.research.google.com/notebooks/data_table.ipynb>data table notebook</a>'\n",
              "            + ' to learn more about interactive tables.';\n",
              "          element.innerHTML = '';\n",
              "          dataTable['output_type'] = 'display_data';\n",
              "          await google.colab.output.renderOutput(dataTable, element);\n",
              "          const docLink = document.createElement('div');\n",
              "          docLink.innerHTML = docLinkHtml;\n",
              "          element.appendChild(docLink);\n",
              "        }\n",
              "      </script>\n",
              "    </div>\n",
              "  </div>\n",
              "  "
            ]
          },
          "metadata": {},
          "execution_count": 4
        }
      ],
      "source": [
        "df.head()"
      ]
    },
    {
      "cell_type": "code",
      "execution_count": 5,
      "metadata": {
        "colab": {
          "base_uri": "https://localhost:8080/"
        },
        "id": "n35iTq-ss0-3",
        "outputId": "d0ab461c-1518-4ab6-bbc3-d6953bbe4e27"
      },
      "outputs": [
        {
          "output_type": "execute_result",
          "data": {
            "text/plain": [
              "Index(['Date', 'Open', 'High', 'Low', 'Close'], dtype='object')"
            ]
          },
          "metadata": {},
          "execution_count": 5
        }
      ],
      "source": [
        "df.columns"
      ]
    },
    {
      "cell_type": "code",
      "execution_count": 6,
      "metadata": {
        "colab": {
          "base_uri": "https://localhost:8080/"
        },
        "id": "LS3VhGkA7rI6",
        "outputId": "294b2b95-fd6b-4adc-c63d-a0fc7fba9e6f"
      },
      "outputs": [
        {
          "output_type": "execute_result",
          "data": {
            "text/plain": [
              "(185, 5)"
            ]
          },
          "metadata": {},
          "execution_count": 6
        }
      ],
      "source": [
        "df.shape"
      ]
    },
    {
      "cell_type": "code",
      "execution_count": 7,
      "metadata": {
        "colab": {
          "base_uri": "https://localhost:8080/"
        },
        "id": "zzi70yXm8ZtB",
        "outputId": "62d56da7-db93-4092-9977-e6e20303b96e"
      },
      "outputs": [
        {
          "output_type": "execute_result",
          "data": {
            "text/plain": [
              "<bound method DataFrame.info of        Date   Open   High    Low  Close\n",
              "0    Jul-05  13.00  14.00  11.25  12.46\n",
              "1    Aug-05  12.58  14.88  12.55  13.42\n",
              "2    Sep-05  13.48  14.87  12.27  13.30\n",
              "3    Oct-05  13.20  14.47  12.40  12.99\n",
              "4    Nov-05  13.35  13.88  12.88  13.41\n",
              "..      ...    ...    ...    ...    ...\n",
              "180  Jul-20  25.60  28.30  11.10  11.95\n",
              "181  Aug-20  12.00  17.16  11.85  14.37\n",
              "182  Sep-20  14.30  15.34  12.75  13.15\n",
              "183  Oct-20  13.30  14.01  12.11  12.42\n",
              "184  Nov-20  12.41  14.90  12.21  14.67\n",
              "\n",
              "[185 rows x 5 columns]>"
            ]
          },
          "metadata": {},
          "execution_count": 7
        }
      ],
      "source": [
        "df.info"
      ]
    },
    {
      "cell_type": "code",
      "execution_count": 8,
      "metadata": {
        "colab": {
          "base_uri": "https://localhost:8080/",
          "height": 300
        },
        "id": "EpmjKuEu8btI",
        "outputId": "b984fb5a-39b9-4327-ab15-67e788ef1de5"
      },
      "outputs": [
        {
          "output_type": "execute_result",
          "data": {
            "text/plain": [
              "             Open        High         Low       Close\n",
              "count  185.000000  185.000000  185.000000  185.000000\n",
              "mean   105.541405  116.104324   94.947838  105.204703\n",
              "std     98.879850  106.333497   91.219415   98.583153\n",
              "min     10.000000   11.240000    5.550000    9.980000\n",
              "25%     33.800000   36.140000   28.510000   33.450000\n",
              "50%     62.980000   72.550000   58.000000   62.540000\n",
              "75%    153.000000  169.190000  138.350000  153.300000\n",
              "max    369.950000  404.000000  345.500000  367.900000"
            ],
            "text/html": [
              "\n",
              "  <div id=\"df-5c4a0d0d-91a2-40c4-a19a-72e50c4ca955\">\n",
              "    <div class=\"colab-df-container\">\n",
              "      <div>\n",
              "<style scoped>\n",
              "    .dataframe tbody tr th:only-of-type {\n",
              "        vertical-align: middle;\n",
              "    }\n",
              "\n",
              "    .dataframe tbody tr th {\n",
              "        vertical-align: top;\n",
              "    }\n",
              "\n",
              "    .dataframe thead th {\n",
              "        text-align: right;\n",
              "    }\n",
              "</style>\n",
              "<table border=\"1\" class=\"dataframe\">\n",
              "  <thead>\n",
              "    <tr style=\"text-align: right;\">\n",
              "      <th></th>\n",
              "      <th>Open</th>\n",
              "      <th>High</th>\n",
              "      <th>Low</th>\n",
              "      <th>Close</th>\n",
              "    </tr>\n",
              "  </thead>\n",
              "  <tbody>\n",
              "    <tr>\n",
              "      <th>count</th>\n",
              "      <td>185.000000</td>\n",
              "      <td>185.000000</td>\n",
              "      <td>185.000000</td>\n",
              "      <td>185.000000</td>\n",
              "    </tr>\n",
              "    <tr>\n",
              "      <th>mean</th>\n",
              "      <td>105.541405</td>\n",
              "      <td>116.104324</td>\n",
              "      <td>94.947838</td>\n",
              "      <td>105.204703</td>\n",
              "    </tr>\n",
              "    <tr>\n",
              "      <th>std</th>\n",
              "      <td>98.879850</td>\n",
              "      <td>106.333497</td>\n",
              "      <td>91.219415</td>\n",
              "      <td>98.583153</td>\n",
              "    </tr>\n",
              "    <tr>\n",
              "      <th>min</th>\n",
              "      <td>10.000000</td>\n",
              "      <td>11.240000</td>\n",
              "      <td>5.550000</td>\n",
              "      <td>9.980000</td>\n",
              "    </tr>\n",
              "    <tr>\n",
              "      <th>25%</th>\n",
              "      <td>33.800000</td>\n",
              "      <td>36.140000</td>\n",
              "      <td>28.510000</td>\n",
              "      <td>33.450000</td>\n",
              "    </tr>\n",
              "    <tr>\n",
              "      <th>50%</th>\n",
              "      <td>62.980000</td>\n",
              "      <td>72.550000</td>\n",
              "      <td>58.000000</td>\n",
              "      <td>62.540000</td>\n",
              "    </tr>\n",
              "    <tr>\n",
              "      <th>75%</th>\n",
              "      <td>153.000000</td>\n",
              "      <td>169.190000</td>\n",
              "      <td>138.350000</td>\n",
              "      <td>153.300000</td>\n",
              "    </tr>\n",
              "    <tr>\n",
              "      <th>max</th>\n",
              "      <td>369.950000</td>\n",
              "      <td>404.000000</td>\n",
              "      <td>345.500000</td>\n",
              "      <td>367.900000</td>\n",
              "    </tr>\n",
              "  </tbody>\n",
              "</table>\n",
              "</div>\n",
              "      <button class=\"colab-df-convert\" onclick=\"convertToInteractive('df-5c4a0d0d-91a2-40c4-a19a-72e50c4ca955')\"\n",
              "              title=\"Convert this dataframe to an interactive table.\"\n",
              "              style=\"display:none;\">\n",
              "        \n",
              "  <svg xmlns=\"http://www.w3.org/2000/svg\" height=\"24px\"viewBox=\"0 0 24 24\"\n",
              "       width=\"24px\">\n",
              "    <path d=\"M0 0h24v24H0V0z\" fill=\"none\"/>\n",
              "    <path d=\"M18.56 5.44l.94 2.06.94-2.06 2.06-.94-2.06-.94-.94-2.06-.94 2.06-2.06.94zm-11 1L8.5 8.5l.94-2.06 2.06-.94-2.06-.94L8.5 2.5l-.94 2.06-2.06.94zm10 10l.94 2.06.94-2.06 2.06-.94-2.06-.94-.94-2.06-.94 2.06-2.06.94z\"/><path d=\"M17.41 7.96l-1.37-1.37c-.4-.4-.92-.59-1.43-.59-.52 0-1.04.2-1.43.59L10.3 9.45l-7.72 7.72c-.78.78-.78 2.05 0 2.83L4 21.41c.39.39.9.59 1.41.59.51 0 1.02-.2 1.41-.59l7.78-7.78 2.81-2.81c.8-.78.8-2.07 0-2.86zM5.41 20L4 18.59l7.72-7.72 1.47 1.35L5.41 20z\"/>\n",
              "  </svg>\n",
              "      </button>\n",
              "      \n",
              "  <style>\n",
              "    .colab-df-container {\n",
              "      display:flex;\n",
              "      flex-wrap:wrap;\n",
              "      gap: 12px;\n",
              "    }\n",
              "\n",
              "    .colab-df-convert {\n",
              "      background-color: #E8F0FE;\n",
              "      border: none;\n",
              "      border-radius: 50%;\n",
              "      cursor: pointer;\n",
              "      display: none;\n",
              "      fill: #1967D2;\n",
              "      height: 32px;\n",
              "      padding: 0 0 0 0;\n",
              "      width: 32px;\n",
              "    }\n",
              "\n",
              "    .colab-df-convert:hover {\n",
              "      background-color: #E2EBFA;\n",
              "      box-shadow: 0px 1px 2px rgba(60, 64, 67, 0.3), 0px 1px 3px 1px rgba(60, 64, 67, 0.15);\n",
              "      fill: #174EA6;\n",
              "    }\n",
              "\n",
              "    [theme=dark] .colab-df-convert {\n",
              "      background-color: #3B4455;\n",
              "      fill: #D2E3FC;\n",
              "    }\n",
              "\n",
              "    [theme=dark] .colab-df-convert:hover {\n",
              "      background-color: #434B5C;\n",
              "      box-shadow: 0px 1px 3px 1px rgba(0, 0, 0, 0.15);\n",
              "      filter: drop-shadow(0px 1px 2px rgba(0, 0, 0, 0.3));\n",
              "      fill: #FFFFFF;\n",
              "    }\n",
              "  </style>\n",
              "\n",
              "      <script>\n",
              "        const buttonEl =\n",
              "          document.querySelector('#df-5c4a0d0d-91a2-40c4-a19a-72e50c4ca955 button.colab-df-convert');\n",
              "        buttonEl.style.display =\n",
              "          google.colab.kernel.accessAllowed ? 'block' : 'none';\n",
              "\n",
              "        async function convertToInteractive(key) {\n",
              "          const element = document.querySelector('#df-5c4a0d0d-91a2-40c4-a19a-72e50c4ca955');\n",
              "          const dataTable =\n",
              "            await google.colab.kernel.invokeFunction('convertToInteractive',\n",
              "                                                     [key], {});\n",
              "          if (!dataTable) return;\n",
              "\n",
              "          const docLinkHtml = 'Like what you see? Visit the ' +\n",
              "            '<a target=\"_blank\" href=https://colab.research.google.com/notebooks/data_table.ipynb>data table notebook</a>'\n",
              "            + ' to learn more about interactive tables.';\n",
              "          element.innerHTML = '';\n",
              "          dataTable['output_type'] = 'display_data';\n",
              "          await google.colab.output.renderOutput(dataTable, element);\n",
              "          const docLink = document.createElement('div');\n",
              "          docLink.innerHTML = docLinkHtml;\n",
              "          element.appendChild(docLink);\n",
              "        }\n",
              "      </script>\n",
              "    </div>\n",
              "  </div>\n",
              "  "
            ]
          },
          "metadata": {},
          "execution_count": 8
        }
      ],
      "source": [
        "df.describe()"
      ]
    },
    {
      "cell_type": "code",
      "execution_count": 9,
      "metadata": {
        "colab": {
          "base_uri": "https://localhost:8080/"
        },
        "id": "6J9BKiuc8rb0",
        "outputId": "14c55f77-f927-43cb-dbaa-c9d2fa6ed72d"
      },
      "outputs": [
        {
          "output_type": "execute_result",
          "data": {
            "text/plain": [
              "Date     0\n",
              "Open     0\n",
              "High     0\n",
              "Low      0\n",
              "Close    0\n",
              "dtype: int64"
            ]
          },
          "metadata": {},
          "execution_count": 9
        }
      ],
      "source": [
        "#check null values\n",
        "df.isnull().sum()"
      ]
    },
    {
      "cell_type": "code",
      "execution_count": 10,
      "metadata": {
        "colab": {
          "base_uri": "https://localhost:8080/"
        },
        "id": "DRpJSSuq9Lnw",
        "outputId": "9e2f119c-497c-4e74-c5ce-ab6c0b200a45"
      },
      "outputs": [
        {
          "output_type": "execute_result",
          "data": {
            "text/plain": [
              "0"
            ]
          },
          "metadata": {},
          "execution_count": 10
        }
      ],
      "source": [
        "len(df[df.duplicated()])"
      ]
    },
    {
      "cell_type": "markdown",
      "metadata": {
        "id": "FIArZ6Fyq-BN"
      },
      "source": [
        "\n",
        "# **Yes Bank Stock Predication**\n",
        "![1640592160538.jpg](data:image/jpeg;base64,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)\n",
        "\n",
        "**Problem statement:** Yes Bank is a well-known bank in the Indian financial domain. Since 2018, it has been in the\n",
        "news because of the fraud case involving Rana Kapoor. Owing to this fact, it was interesting\n",
        "to see how that impacted the stock prices of the company and whether Time series models\n",
        "or any other predictive models can do justice to such situations. This dataset has monthly\n",
        "stock prices of the bank since its inception and includes closing, starting, highest, and lowest\n",
        "stock prices of every month. The main objective is to predict the stock’s closing price of the\n",
        "month.\n",
        "\n",
        "**Understanding the Problem Statement:** Predicting how the stock market will perform is one of the most difficult things to do. There are so many factors involved in the prediction – physical factors vs. psychological, rational and irrational behavior, etc. All these aspects combine to make share prices volatile and very difficult to predict with a high degree of accuracy. Broadly, stock market analysis is divided into two parts – Fundamental Analysis and Technical Analysis.\n",
        "\n",
        "*  Fundamental Analysis involves analyzing the company’s future profitability on the basis of its current business environment and financial performance.\n",
        "*  Technical Analysis, on the other hand, includes reading the charts and using statistical figures to identify the trends in the stock market.\n",
        "\n",
        "Our focus will be on the technical analysis part. We’ll be using a dataset.\n",
        "\n",
        "**What is stock?**\n",
        "\n",
        "A Stock or share (also known as a company’s “equity”) is a financial instrument that represents ownership in a company.\n",
        "\n",
        "Since, we've the **YES BANK** Stock price dataset which has the monthly stock prices of the bank since its inception. It contains the following features:\n",
        "\n",
        "\n",
        "\n",
        "*   **Date:** It denotes date of investment done (in our case we have month and year).\n",
        "*   **Open:** Open means the price at which a stock started trading when the opening bell rang.\n",
        "*   **High:** High refer to the maximum prices in a given time period.\n",
        "\n",
        "*   **Low:** Low refer to the minimum prices in a given time period.\n",
        "*   **Close:** Close refers to the price of an individual stock when the stock exchange closed for the day.\n"
      ]
    },
    {
      "cell_type": "code",
      "execution_count": 11,
      "metadata": {
        "colab": {
          "base_uri": "https://localhost:8080/",
          "height": 500
        },
        "id": "aSJjURBs9NO4",
        "outputId": "ff99e2a5-518f-4829-b7e7-cdb684fb0299"
      },
      "outputs": [
        {
          "output_type": "execute_result",
          "data": {
            "text/plain": [
              "<matplotlib.axes._subplots.AxesSubplot at 0x7fd397814490>"
            ]
          },
          "metadata": {},
          "execution_count": 11
        },
        {
          "output_type": "display_data",
          "data": {
            "text/plain": [
              "<Figure size 1080x576 with 1 Axes>"
            ],
            "image/png": "[encoded data removed]"
          },
          "metadata": {
            "needs_background": "light"
          }
        }
      ],
      "source": [
        "#checking outliers \n",
        "plt.figure(figsize= (15, 8))\n",
        "sns.boxplot(data=df, orient=\"h\", palette=\"hls\")"
      ]
    },
    {
      "cell_type": "markdown",
      "metadata": {
        "id": "hcFaMed5_CJQ"
      },
      "source": [
        "# **Exploratory Data Analysis**"
      ]
    },
    {
      "cell_type": "code",
      "execution_count": 12,
      "metadata": {
        "colab": {
          "base_uri": "https://localhost:8080/",
          "height": 1000
        },
        "id": "pSoL7myK--KZ",
        "outputId": "a5883ec7-70fb-4113-99ca-d41ffb9732d2"
      },
      "outputs": [
        {
          "output_type": "execute_result",
          "data": {
            "text/plain": [
              "<matplotlib.axes._subplots.AxesSubplot at 0x7fd39717a1d0>"
            ]
          },
          "metadata": {},
          "execution_count": 12
        },
        {
          "output_type": "display_data",
          "data": {
            "text/plain": [
              "<Figure size 576x576 with 1 Axes>"
            ],
            "image/png": "[encoded data removed]"
          },
          "metadata": {
            "needs_background": "light"
          }
        },
        {
          "output_type": "display_data",
          "data": {
            "text/plain": [
              "<Figure size 576x576 with 1 Axes>"
            ],
            "image/png": "[encoded data removed]"
          },
          "metadata": {
            "needs_background": "light"
          }
        },
        {
          "output_type": "display_data",
          "data": {
            "text/plain": [
              "<Figure size 576x576 with 1 Axes>"
            ],
            "image/png": "[encoded data removed]"
          },
          "metadata": {
            "needs_background": "light"
          }
        },
        {
          "output_type": "display_data",
          "data": {
            "text/plain": [
              "<Figure size 576x576 with 1 Axes>"
            ],
            "image/png": "[encoded data removed]"
          },
          "metadata": {
            "needs_background": "light"
          }
        }
      ],
      "source": [
        "plt.figure(figsize=(8,8))\n",
        "sns.distplot(df['Open'], color='g')\n",
        "\n",
        "plt.figure(figsize=(8,8))\n",
        "sns.distplot(df['High'], color='g')\n",
        "\n",
        "plt.figure(figsize=(8,8))\n",
        "sns.distplot(df['Low'], color='g')\n",
        "\n",
        "plt.figure(figsize=(8,8))\n",
        "sns.distplot(df['Close'], color='g')"
      ]
    },
    {
      "cell_type": "code",
      "execution_count": 13,
      "metadata": {
        "colab": {
          "base_uri": "https://localhost:8080/",
          "height": 1000
        },
        "id": "MUB2IueY_Pc2",
        "outputId": "f81c3f1d-5306-4b42-93e8-f2dd6552859d"
      },
      "outputs": [
        {
          "output_type": "execute_result",
          "data": {
            "text/plain": [
              "<matplotlib.axes._subplots.AxesSubplot at 0x7fd396f19fd0>"
            ]
          },
          "metadata": {},
          "execution_count": 13
        },
        {
          "output_type": "display_data",
          "data": {
            "text/plain": [
              "<Figure size 576x576 with 1 Axes>"
            ],
            "image/png": "[encoded data removed]"
          },
          "metadata": {
            "needs_background": "light"
          }
        },
        {
          "output_type": "display_data",
          "data": {
            "text/plain": [
              "<Figure size 576x576 with 1 Axes>"
            ],
            "image/png": "[encoded data removed]"
          },
          "metadata": {
            "needs_background": "light"
          }
        },
        {
          "output_type": "display_data",
          "data": {
            "text/plain": [
              "<Figure size 576x576 with 1 Axes>"
            ],
            "image/png": "[encoded data removed]"
          },
          "metadata": {
            "needs_background": "light"
          }
        },
        {
          "output_type": "display_data",
          "data": {
            "text/plain": [
              "<Figure size 576x576 with 1 Axes>"
            ],
            "image/png": "[encoded data removed]"
          },
          "metadata": {
            "needs_background": "light"
          }
        }
      ],
      "source": [
        "# Normal Distribution \n",
        "plt.figure(figsize=(8,8))\n",
        "sns.distplot(np.log10(df['Open']), color='g')\n",
        "\n",
        "plt.figure(figsize=(8,8))\n",
        "sns.distplot(np.log10(df['High']), color='g')\n",
        "\n",
        "plt.figure(figsize=(8,8))\n",
        "sns.distplot(np.log10(df['Low']), color='g')\n",
        "\n",
        "plt.figure(figsize=(8,8))\n",
        "sns.distplot(np.log10(df['Close']), color='g')"
      ]
    },
    {
      "cell_type": "markdown",
      "metadata": {
        "id": "TT1KJRAS_5p5"
      },
      "source": [
        "**Multivariate Analysis**"
      ]
    },
    {
      "cell_type": "code",
      "execution_count": 14,
      "metadata": {
        "id": "kpJKP4Vi_3WC"
      },
      "outputs": [],
      "source": [
        "#Convertting Date column from object to date type(Data wrangling)\n",
        "df['Date']= pd.to_datetime(df['Date'], format= '%b-%y')"
      ]
    },
    {
      "cell_type": "code",
      "execution_count": 15,
      "metadata": {
        "colab": {
          "base_uri": "https://localhost:8080/",
          "height": 206
        },
        "id": "P5cHWwFdAKJo",
        "outputId": "7dfcdbc8-a7a7-4abd-f7c4-e245e9dc71d0"
      },
      "outputs": [
        {
          "output_type": "execute_result",
          "data": {
            "text/plain": [
              "        Date   Open   High    Low  Close\n",
              "0 2005-07-01  13.00  14.00  11.25  12.46\n",
              "1 2005-08-01  12.58  14.88  12.55  13.42\n",
              "2 2005-09-01  13.48  14.87  12.27  13.30\n",
              "3 2005-10-01  13.20  14.47  12.40  12.99\n",
              "4 2005-11-01  13.35  13.88  12.88  13.41"
            ],
            "text/html": [
              "\n",
              "  <div id=\"df-6eb39437-ea13-4d2f-b24e-d2251e6a91c3\">\n",
              "    <div class=\"colab-df-container\">\n",
              "      <div>\n",
              "<style scoped>\n",
              "    .dataframe tbody tr th:only-of-type {\n",
              "        vertical-align: middle;\n",
              "    }\n",
              "\n",
              "    .dataframe tbody tr th {\n",
              "        vertical-align: top;\n",
              "    }\n",
              "\n",
              "    .dataframe thead th {\n",
              "        text-align: right;\n",
              "    }\n",
              "</style>\n",
              "<table border=\"1\" class=\"dataframe\">\n",
              "  <thead>\n",
              "    <tr style=\"text-align: right;\">\n",
              "      <th></th>\n",
              "      <th>Date</th>\n",
              "      <th>Open</th>\n",
              "      <th>High</th>\n",
              "      <th>Low</th>\n",
              "      <th>Close</th>\n",
              "    </tr>\n",
              "  </thead>\n",
              "  <tbody>\n",
              "    <tr>\n",
              "      <th>0</th>\n",
              "      <td>2005-07-01</td>\n",
              "      <td>13.00</td>\n",
              "      <td>14.00</td>\n",
              "      <td>11.25</td>\n",
              "      <td>12.46</td>\n",
              "    </tr>\n",
              "    <tr>\n",
              "      <th>1</th>\n",
              "      <td>2005-08-01</td>\n",
              "      <td>12.58</td>\n",
              "      <td>14.88</td>\n",
              "      <td>12.55</td>\n",
              "      <td>13.42</td>\n",
              "    </tr>\n",
              "    <tr>\n",
              "      <th>2</th>\n",
              "      <td>2005-09-01</td>\n",
              "      <td>13.48</td>\n",
              "      <td>14.87</td>\n",
              "      <td>12.27</td>\n",
              "      <td>13.30</td>\n",
              "    </tr>\n",
              "    <tr>\n",
              "      <th>3</th>\n",
              "      <td>2005-10-01</td>\n",
              "      <td>13.20</td>\n",
              "      <td>14.47</td>\n",
              "      <td>12.40</td>\n",
              "      <td>12.99</td>\n",
              "    </tr>\n",
              "    <tr>\n",
              "      <th>4</th>\n",
              "      <td>2005-11-01</td>\n",
              "      <td>13.35</td>\n",
              "      <td>13.88</td>\n",
              "      <td>12.88</td>\n",
              "      <td>13.41</td>\n",
              "    </tr>\n",
              "  </tbody>\n",
              "</table>\n",
              "</div>\n",
              "      <button class=\"colab-df-convert\" onclick=\"convertToInteractive('df-6eb39437-ea13-4d2f-b24e-d2251e6a91c3')\"\n",
              "              title=\"Convert this dataframe to an interactive table.\"\n",
              "              style=\"display:none;\">\n",
              "        \n",
              "  <svg xmlns=\"http://www.w3.org/2000/svg\" height=\"24px\"viewBox=\"0 0 24 24\"\n",
              "       width=\"24px\">\n",
              "    <path d=\"M0 0h24v24H0V0z\" fill=\"none\"/>\n",
              "    <path d=\"M18.56 5.44l.94 2.06.94-2.06 2.06-.94-2.06-.94-.94-2.06-.94 2.06-2.06.94zm-11 1L8.5 8.5l.94-2.06 2.06-.94-2.06-.94L8.5 2.5l-.94 2.06-2.06.94zm10 10l.94 2.06.94-2.06 2.06-.94-2.06-.94-.94-2.06-.94 2.06-2.06.94z\"/><path d=\"M17.41 7.96l-1.37-1.37c-.4-.4-.92-.59-1.43-.59-.52 0-1.04.2-1.43.59L10.3 9.45l-7.72 7.72c-.78.78-.78 2.05 0 2.83L4 21.41c.39.39.9.59 1.41.59.51 0 1.02-.2 1.41-.59l7.78-7.78 2.81-2.81c.8-.78.8-2.07 0-2.86zM5.41 20L4 18.59l7.72-7.72 1.47 1.35L5.41 20z\"/>\n",
              "  </svg>\n",
              "      </button>\n",
              "      \n",
              "  <style>\n",
              "    .colab-df-container {\n",
              "      display:flex;\n",
              "      flex-wrap:wrap;\n",
              "      gap: 12px;\n",
              "    }\n",
              "\n",
              "    .colab-df-convert {\n",
              "      background-color: #E8F0FE;\n",
              "      border: none;\n",
              "      border-radius: 50%;\n",
              "      cursor: pointer;\n",
              "      display: none;\n",
              "      fill: #1967D2;\n",
              "      height: 32px;\n",
              "      padding: 0 0 0 0;\n",
              "      width: 32px;\n",
              "    }\n",
              "\n",
              "    .colab-df-convert:hover {\n",
              "      background-color: #E2EBFA;\n",
              "      box-shadow: 0px 1px 2px rgba(60, 64, 67, 0.3), 0px 1px 3px 1px rgba(60, 64, 67, 0.15);\n",
              "      fill: #174EA6;\n",
              "    }\n",
              "\n",
              "    [theme=dark] .colab-df-convert {\n",
              "      background-color: #3B4455;\n",
              "      fill: #D2E3FC;\n",
              "    }\n",
              "\n",
              "    [theme=dark] .colab-df-convert:hover {\n",
              "      background-color: #434B5C;\n",
              "      box-shadow: 0px 1px 3px 1px rgba(0, 0, 0, 0.15);\n",
              "      filter: drop-shadow(0px 1px 2px rgba(0, 0, 0, 0.3));\n",
              "      fill: #FFFFFF;\n",
              "    }\n",
              "  </style>\n",
              "\n",
              "      <script>\n",
              "        const buttonEl =\n",
              "          document.querySelector('#df-6eb39437-ea13-4d2f-b24e-d2251e6a91c3 button.colab-df-convert');\n",
              "        buttonEl.style.display =\n",
              "          google.colab.kernel.accessAllowed ? 'block' : 'none';\n",
              "\n",
              "        async function convertToInteractive(key) {\n",
              "          const element = document.querySelector('#df-6eb39437-ea13-4d2f-b24e-d2251e6a91c3');\n",
              "          const dataTable =\n",
              "            await google.colab.kernel.invokeFunction('convertToInteractive',\n",
              "                                                     [key], {});\n",
              "          if (!dataTable) return;\n",
              "\n",
              "          const docLinkHtml = 'Like what you see? Visit the ' +\n",
              "            '<a target=\"_blank\" href=https://colab.research.google.com/notebooks/data_table.ipynb>data table notebook</a>'\n",
              "            + ' to learn more about interactive tables.';\n",
              "          element.innerHTML = '';\n",
              "          dataTable['output_type'] = 'display_data';\n",
              "          await google.colab.output.renderOutput(dataTable, element);\n",
              "          const docLink = document.createElement('div');\n",
              "          docLink.innerHTML = docLinkHtml;\n",
              "          element.appendChild(docLink);\n",
              "        }\n",
              "      </script>\n",
              "    </div>\n",
              "  </div>\n",
              "  "
            ]
          },
          "metadata": {},
          "execution_count": 15
        }
      ],
      "source": [
        "df.head()"
      ]
    },
    {
      "cell_type": "code",
      "execution_count": 16,
      "metadata": {
        "colab": {
          "base_uri": "https://localhost:8080/",
          "height": 206
        },
        "id": "qcgoSte-AG8w",
        "outputId": "45589dea-911d-4d95-ee31-0c5c40f86b2f"
      },
      "outputs": [
        {
          "output_type": "execute_result",
          "data": {
            "text/plain": [
              "        Date  Close\n",
              "0 2005-07-01  12.46\n",
              "1 2005-08-01  13.42\n",
              "2 2005-09-01  13.30\n",
              "3 2005-10-01  12.99\n",
              "4 2005-11-01  13.41"
            ],
            "text/html": [
              "\n",
              "  <div id=\"df-52880353-c692-4317-a1fd-14c968271d76\">\n",
              "    <div class=\"colab-df-container\">\n",
              "      <div>\n",
              "<style scoped>\n",
              "    .dataframe tbody tr th:only-of-type {\n",
              "        vertical-align: middle;\n",
              "    }\n",
              "\n",
              "    .dataframe tbody tr th {\n",
              "        vertical-align: top;\n",
              "    }\n",
              "\n",
              "    .dataframe thead th {\n",
              "        text-align: right;\n",
              "    }\n",
              "</style>\n",
              "<table border=\"1\" class=\"dataframe\">\n",
              "  <thead>\n",
              "    <tr style=\"text-align: right;\">\n",
              "      <th></th>\n",
              "      <th>Date</th>\n",
              "      <th>Close</th>\n",
              "    </tr>\n",
              "  </thead>\n",
              "  <tbody>\n",
              "    <tr>\n",
              "      <th>0</th>\n",
              "      <td>2005-07-01</td>\n",
              "      <td>12.46</td>\n",
              "    </tr>\n",
              "    <tr>\n",
              "      <th>1</th>\n",
              "      <td>2005-08-01</td>\n",
              "      <td>13.42</td>\n",
              "    </tr>\n",
              "    <tr>\n",
              "      <th>2</th>\n",
              "      <td>2005-09-01</td>\n",
              "      <td>13.30</td>\n",
              "    </tr>\n",
              "    <tr>\n",
              "      <th>3</th>\n",
              "      <td>2005-10-01</td>\n",
              "      <td>12.99</td>\n",
              "    </tr>\n",
              "    <tr>\n",
              "      <th>4</th>\n",
              "      <td>2005-11-01</td>\n",
              "      <td>13.41</td>\n",
              "    </tr>\n",
              "  </tbody>\n",
              "</table>\n",
              "</div>\n",
              "      <button class=\"colab-df-convert\" onclick=\"convertToInteractive('df-52880353-c692-4317-a1fd-14c968271d76')\"\n",
              "              title=\"Convert this dataframe to an interactive table.\"\n",
              "              style=\"display:none;\">\n",
              "        \n",
              "  <svg xmlns=\"http://www.w3.org/2000/svg\" height=\"24px\"viewBox=\"0 0 24 24\"\n",
              "       width=\"24px\">\n",
              "    <path d=\"M0 0h24v24H0V0z\" fill=\"none\"/>\n",
              "    <path d=\"M18.56 5.44l.94 2.06.94-2.06 2.06-.94-2.06-.94-.94-2.06-.94 2.06-2.06.94zm-11 1L8.5 8.5l.94-2.06 2.06-.94-2.06-.94L8.5 2.5l-.94 2.06-2.06.94zm10 10l.94 2.06.94-2.06 2.06-.94-2.06-.94-.94-2.06-.94 2.06-2.06.94z\"/><path d=\"M17.41 7.96l-1.37-1.37c-.4-.4-.92-.59-1.43-.59-.52 0-1.04.2-1.43.59L10.3 9.45l-7.72 7.72c-.78.78-.78 2.05 0 2.83L4 21.41c.39.39.9.59 1.41.59.51 0 1.02-.2 1.41-.59l7.78-7.78 2.81-2.81c.8-.78.8-2.07 0-2.86zM5.41 20L4 18.59l7.72-7.72 1.47 1.35L5.41 20z\"/>\n",
              "  </svg>\n",
              "      </button>\n",
              "      \n",
              "  <style>\n",
              "    .colab-df-container {\n",
              "      display:flex;\n",
              "      flex-wrap:wrap;\n",
              "      gap: 12px;\n",
              "    }\n",
              "\n",
              "    .colab-df-convert {\n",
              "      background-color: #E8F0FE;\n",
              "      border: none;\n",
              "      border-radius: 50%;\n",
              "      cursor: pointer;\n",
              "      display: none;\n",
              "      fill: #1967D2;\n",
              "      height: 32px;\n",
              "      padding: 0 0 0 0;\n",
              "      width: 32px;\n",
              "    }\n",
              "\n",
              "    .colab-df-convert:hover {\n",
              "      background-color: #E2EBFA;\n",
              "      box-shadow: 0px 1px 2px rgba(60, 64, 67, 0.3), 0px 1px 3px 1px rgba(60, 64, 67, 0.15);\n",
              "      fill: #174EA6;\n",
              "    }\n",
              "\n",
              "    [theme=dark] .colab-df-convert {\n",
              "      background-color: #3B4455;\n",
              "      fill: #D2E3FC;\n",
              "    }\n",
              "\n",
              "    [theme=dark] .colab-df-convert:hover {\n",
              "      background-color: #434B5C;\n",
              "      box-shadow: 0px 1px 3px 1px rgba(0, 0, 0, 0.15);\n",
              "      filter: drop-shadow(0px 1px 2px rgba(0, 0, 0, 0.3));\n",
              "      fill: #FFFFFF;\n",
              "    }\n",
              "  </style>\n",
              "\n",
              "      <script>\n",
              "        const buttonEl =\n",
              "          document.querySelector('#df-52880353-c692-4317-a1fd-14c968271d76 button.colab-df-convert');\n",
              "        buttonEl.style.display =\n",
              "          google.colab.kernel.accessAllowed ? 'block' : 'none';\n",
              "\n",
              "        async function convertToInteractive(key) {\n",
              "          const element = document.querySelector('#df-52880353-c692-4317-a1fd-14c968271d76');\n",
              "          const dataTable =\n",
              "            await google.colab.kernel.invokeFunction('convertToInteractive',\n",
              "                                                     [key], {});\n",
              "          if (!dataTable) return;\n",
              "\n",
              "          const docLinkHtml = 'Like what you see? Visit the ' +\n",
              "            '<a target=\"_blank\" href=https://colab.research.google.com/notebooks/data_table.ipynb>data table notebook</a>'\n",
              "            + ' to learn more about interactive tables.';\n",
              "          element.innerHTML = '';\n",
              "          dataTable['output_type'] = 'display_data';\n",
              "          await google.colab.output.renderOutput(dataTable, element);\n",
              "          const docLink = document.createElement('div');\n",
              "          docLink.innerHTML = docLinkHtml;\n",
              "          element.appendChild(docLink);\n",
              "        }\n",
              "      </script>\n",
              "    </div>\n",
              "  </div>\n",
              "  "
            ]
          },
          "metadata": {},
          "execution_count": 16
        }
      ],
      "source": [
        "Yearly_df= df.groupby('Date')['Close'].mean().reset_index()\n",
        "Yearly_df.head()"
      ]
    },
    {
      "cell_type": "code",
      "execution_count": 17,
      "metadata": {
        "colab": {
          "base_uri": "https://localhost:8080/",
          "height": 504
        },
        "id": "iML5tcG1ATNU",
        "outputId": "d552c11c-60a4-46b8-f085-8257cbda0e92"
      },
      "outputs": [
        {
          "output_type": "execute_result",
          "data": {
            "text/plain": [
              "<matplotlib.axes._subplots.AxesSubplot at 0x7fd39708aa10>"
            ]
          },
          "metadata": {},
          "execution_count": 17
        },
        {
          "output_type": "display_data",
          "data": {
            "text/plain": [
              "<Figure size 1440x576 with 1 Axes>"
            ],
            "image/png": "[encoded data removed]"
          },
          "metadata": {
            "needs_background": "light"
          }
        }
      ],
      "source": [
        "plt.figure(figsize= [20, 8])\n",
        "plt.title(\"Trend of Yes Bank With Closing Price\", fontweight = 'bold')\n",
        "sns.lineplot(data=Yearly_df, x= 'Date', y= 'Close', palette= 'husl' )"
      ]
    },
    {
      "cell_type": "code",
      "execution_count": 18,
      "metadata": {
        "id": "XGDJ3q-hAimk",
        "colab": {
          "base_uri": "https://localhost:8080/",
          "height": 851
        },
        "outputId": "0c02c0ec-3fbc-41d1-a7dc-c2ad32ca5418"
      },
      "outputs": [
        {
          "output_type": "display_data",
          "data": {
            "text/plain": [
              "<Figure size 432x288 with 1 Axes>"
            ],
            "image/png": "[encoded data removed]"
          },
          "metadata": {
            "needs_background": "light"
          }
        },
        {
          "output_type": "display_data",
          "data": {
            "text/plain": [
              "<Figure size 432x288 with 1 Axes>"
            ],
            "image/png": "[encoded data removed]"
          },
          "metadata": {
            "needs_background": "light"
          }
        },
        {
          "output_type": "display_data",
          "data": {
            "text/plain": [
              "<Figure size 432x288 with 1 Axes>"
            ],
            "image/png": "[encoded data removed]"
          },
          "metadata": {
            "needs_background": "light"
          }
        }
      ],
      "source": [
        "# To find relational between dependent variable and independent variable\n",
        "\n",
        "plt.scatter(df['Close'], df['Open'], alpha=0.5)\n",
        "plt.title('Scatter plot of open and close')\n",
        "plt.xlabel('Open')\n",
        "plt.ylabel('Close')\n",
        "sns.regplot(x=\"Open\", y=\"Close\", data=df)\n",
        "plt.show()\n",
        "\n",
        "plt.scatter(df['Close'], df['High'], alpha=0.5)\n",
        "plt.title('Scatter plot of High and close')\n",
        "plt.xlabel('High')\n",
        "plt.ylabel('Close')\n",
        "sns.regplot(x=\"High\", y=\"Close\", data=df)\n",
        "plt.show()\n",
        "\n",
        "plt.scatter(df['Close'], df['Low'], alpha=0.5)\n",
        "plt.title('Scatter plot of Low and close')\n",
        "plt.xlabel('Low')\n",
        "plt.ylabel('Close')\n",
        "sns.regplot(x=\"Low\", y=\"Close\", data=df)\n",
        "plt.show()\n"
      ]
    },
    {
      "cell_type": "code",
      "execution_count": 19,
      "metadata": {
        "colab": {
          "base_uri": "https://localhost:8080/",
          "height": 395
        },
        "id": "XynaPAJMAzjQ",
        "outputId": "73e605c5-9150-4c41-b7d3-8681dc45e8ef"
      },
      "outputs": [
        {
          "output_type": "execute_result",
          "data": {
            "text/plain": [
              "<matplotlib.axes._subplots.AxesSubplot at 0x7fd396d910d0>"
            ]
          },
          "metadata": {},
          "execution_count": 19
        },
        {
          "output_type": "display_data",
          "data": {
            "text/plain": [
              "<Figure size 648x432 with 2 Axes>"
            ],
            "image/png": "[encoded data removed]"
          },
          "metadata": {
            "needs_background": "light"
          }
        }
      ],
      "source": [
        "#Let's get the heatmmap of the Numerical Variables\n",
        "plt.figure(figsize= (9, 6))\n",
        "Coorelation_matrix= df.corr()\n",
        "sns.heatmap(Coorelation_matrix, annot= True, cmap= 'YlGnBu')"
      ]
    },
    {
      "cell_type": "markdown",
      "metadata": {
        "id": "UXrarURvL2L_"
      },
      "source": [
        "**Feature Engineering**"
      ]
    },
    {
      "cell_type": "code",
      "execution_count": 20,
      "metadata": {
        "id": "QQJBQpEjL6Pe",
        "colab": {
          "base_uri": "https://localhost:8080/",
          "height": 206
        },
        "outputId": "7b358db9-19f1-4ade-b70e-8f8c1581b5b6"
      },
      "outputs": [
        {
          "output_type": "execute_result",
          "data": {
            "text/plain": [
              "        Date   Open   High    Low  Close\n",
              "0 2005-07-01  13.00  14.00  11.25  12.46\n",
              "1 2005-08-01  12.58  14.88  12.55  13.42\n",
              "2 2005-09-01  13.48  14.87  12.27  13.30\n",
              "3 2005-10-01  13.20  14.47  12.40  12.99\n",
              "4 2005-11-01  13.35  13.88  12.88  13.41"
            ],
            "text/html": [
              "\n",
              "  <div id=\"df-8f0ecc4d-b9d1-410d-9f75-43f48974335a\">\n",
              "    <div class=\"colab-df-container\">\n",
              "      <div>\n",
              "<style scoped>\n",
              "    .dataframe tbody tr th:only-of-type {\n",
              "        vertical-align: middle;\n",
              "    }\n",
              "\n",
              "    .dataframe tbody tr th {\n",
              "        vertical-align: top;\n",
              "    }\n",
              "\n",
              "    .dataframe thead th {\n",
              "        text-align: right;\n",
              "    }\n",
              "</style>\n",
              "<table border=\"1\" class=\"dataframe\">\n",
              "  <thead>\n",
              "    <tr style=\"text-align: right;\">\n",
              "      <th></th>\n",
              "      <th>Date</th>\n",
              "      <th>Open</th>\n",
              "      <th>High</th>\n",
              "      <th>Low</th>\n",
              "      <th>Close</th>\n",
              "    </tr>\n",
              "  </thead>\n",
              "  <tbody>\n",
              "    <tr>\n",
              "      <th>0</th>\n",
              "      <td>2005-07-01</td>\n",
              "      <td>13.00</td>\n",
              "      <td>14.00</td>\n",
              "      <td>11.25</td>\n",
              "      <td>12.46</td>\n",
              "    </tr>\n",
              "    <tr>\n",
              "      <th>1</th>\n",
              "      <td>2005-08-01</td>\n",
              "      <td>12.58</td>\n",
              "      <td>14.88</td>\n",
              "      <td>12.55</td>\n",
              "      <td>13.42</td>\n",
              "    </tr>\n",
              "    <tr>\n",
              "      <th>2</th>\n",
              "      <td>2005-09-01</td>\n",
              "      <td>13.48</td>\n",
              "      <td>14.87</td>\n",
              "      <td>12.27</td>\n",
              "      <td>13.30</td>\n",
              "    </tr>\n",
              "    <tr>\n",
              "      <th>3</th>\n",
              "      <td>2005-10-01</td>\n",
              "      <td>13.20</td>\n",
              "      <td>14.47</td>\n",
              "      <td>12.40</td>\n",
              "      <td>12.99</td>\n",
              "    </tr>\n",
              "    <tr>\n",
              "      <th>4</th>\n",
              "      <td>2005-11-01</td>\n",
              "      <td>13.35</td>\n",
              "      <td>13.88</td>\n",
              "      <td>12.88</td>\n",
              "      <td>13.41</td>\n",
              "    </tr>\n",
              "  </tbody>\n",
              "</table>\n",
              "</div>\n",
              "      <button class=\"colab-df-convert\" onclick=\"convertToInteractive('df-8f0ecc4d-b9d1-410d-9f75-43f48974335a')\"\n",
              "              title=\"Convert this dataframe to an interactive table.\"\n",
              "              style=\"display:none;\">\n",
              "        \n",
              "  <svg xmlns=\"http://www.w3.org/2000/svg\" height=\"24px\"viewBox=\"0 0 24 24\"\n",
              "       width=\"24px\">\n",
              "    <path d=\"M0 0h24v24H0V0z\" fill=\"none\"/>\n",
              "    <path d=\"M18.56 5.44l.94 2.06.94-2.06 2.06-.94-2.06-.94-.94-2.06-.94 2.06-2.06.94zm-11 1L8.5 8.5l.94-2.06 2.06-.94-2.06-.94L8.5 2.5l-.94 2.06-2.06.94zm10 10l.94 2.06.94-2.06 2.06-.94-2.06-.94-.94-2.06-.94 2.06-2.06.94z\"/><path d=\"M17.41 7.96l-1.37-1.37c-.4-.4-.92-.59-1.43-.59-.52 0-1.04.2-1.43.59L10.3 9.45l-7.72 7.72c-.78.78-.78 2.05 0 2.83L4 21.41c.39.39.9.59 1.41.59.51 0 1.02-.2 1.41-.59l7.78-7.78 2.81-2.81c.8-.78.8-2.07 0-2.86zM5.41 20L4 18.59l7.72-7.72 1.47 1.35L5.41 20z\"/>\n",
              "  </svg>\n",
              "      </button>\n",
              "      \n",
              "  <style>\n",
              "    .colab-df-container {\n",
              "      display:flex;\n",
              "      flex-wrap:wrap;\n",
              "      gap: 12px;\n",
              "    }\n",
              "\n",
              "    .colab-df-convert {\n",
              "      background-color: #E8F0FE;\n",
              "      border: none;\n",
              "      border-radius: 50%;\n",
              "      cursor: pointer;\n",
              "      display: none;\n",
              "      fill: #1967D2;\n",
              "      height: 32px;\n",
              "      padding: 0 0 0 0;\n",
              "      width: 32px;\n",
              "    }\n",
              "\n",
              "    .colab-df-convert:hover {\n",
              "      background-color: #E2EBFA;\n",
              "      box-shadow: 0px 1px 2px rgba(60, 64, 67, 0.3), 0px 1px 3px 1px rgba(60, 64, 67, 0.15);\n",
              "      fill: #174EA6;\n",
              "    }\n",
              "\n",
              "    [theme=dark] .colab-df-convert {\n",
              "      background-color: #3B4455;\n",
              "      fill: #D2E3FC;\n",
              "    }\n",
              "\n",
              "    [theme=dark] .colab-df-convert:hover {\n",
              "      background-color: #434B5C;\n",
              "      box-shadow: 0px 1px 3px 1px rgba(0, 0, 0, 0.15);\n",
              "      filter: drop-shadow(0px 1px 2px rgba(0, 0, 0, 0.3));\n",
              "      fill: #FFFFFF;\n",
              "    }\n",
              "  </style>\n",
              "\n",
              "      <script>\n",
              "        const buttonEl =\n",
              "          document.querySelector('#df-8f0ecc4d-b9d1-410d-9f75-43f48974335a button.colab-df-convert');\n",
              "        buttonEl.style.display =\n",
              "          google.colab.kernel.accessAllowed ? 'block' : 'none';\n",
              "\n",
              "        async function convertToInteractive(key) {\n",
              "          const element = document.querySelector('#df-8f0ecc4d-b9d1-410d-9f75-43f48974335a');\n",
              "          const dataTable =\n",
              "            await google.colab.kernel.invokeFunction('convertToInteractive',\n",
              "                                                     [key], {});\n",
              "          if (!dataTable) return;\n",
              "\n",
              "          const docLinkHtml = 'Like what you see? Visit the ' +\n",
              "            '<a target=\"_blank\" href=https://colab.research.google.com/notebooks/data_table.ipynb>data table notebook</a>'\n",
              "            + ' to learn more about interactive tables.';\n",
              "          element.innerHTML = '';\n",
              "          dataTable['output_type'] = 'display_data';\n",
              "          await google.colab.output.renderOutput(dataTable, element);\n",
              "          const docLink = document.createElement('div');\n",
              "          docLink.innerHTML = docLinkHtml;\n",
              "          element.appendChild(docLink);\n",
              "        }\n",
              "      </script>\n",
              "    </div>\n",
              "  </div>\n",
              "  "
            ]
          },
          "metadata": {},
          "execution_count": 20
        }
      ],
      "source": [
        "df.head()"
      ]
    },
    {
      "cell_type": "code",
      "execution_count": 21,
      "metadata": {
        "id": "iwiPkwcEL-mY"
      },
      "outputs": [],
      "source": [
        "# Let's create a month and year column from the Date column\n",
        "df['Month']= df['Date'].dt.month\n",
        "df['Year']= df['Date'].dt.year"
      ]
    },
    {
      "cell_type": "code",
      "source": [
        "df.head()"
      ],
      "metadata": {
        "colab": {
          "base_uri": "https://localhost:8080/",
          "height": 206
        },
        "id": "zdBIhELlM_P7",
        "outputId": "fe5e7f4d-a59a-4a4b-d1a2-a51fbefc8deb"
      },
      "execution_count": 22,
      "outputs": [
        {
          "output_type": "execute_result",
          "data": {
            "text/plain": [
              "        Date   Open   High    Low  Close  Month  Year\n",
              "0 2005-07-01  13.00  14.00  11.25  12.46      7  2005\n",
              "1 2005-08-01  12.58  14.88  12.55  13.42      8  2005\n",
              "2 2005-09-01  13.48  14.87  12.27  13.30      9  2005\n",
              "3 2005-10-01  13.20  14.47  12.40  12.99     10  2005\n",
              "4 2005-11-01  13.35  13.88  12.88  13.41     11  2005"
            ],
            "text/html": [
              "\n",
              "  <div id=\"df-981cb011-b099-4034-89ae-c2f48aff8598\">\n",
              "    <div class=\"colab-df-container\">\n",
              "      <div>\n",
              "<style scoped>\n",
              "    .dataframe tbody tr th:only-of-type {\n",
              "        vertical-align: middle;\n",
              "    }\n",
              "\n",
              "    .dataframe tbody tr th {\n",
              "        vertical-align: top;\n",
              "    }\n",
              "\n",
              "    .dataframe thead th {\n",
              "        text-align: right;\n",
              "    }\n",
              "</style>\n",
              "<table border=\"1\" class=\"dataframe\">\n",
              "  <thead>\n",
              "    <tr style=\"text-align: right;\">\n",
              "      <th></th>\n",
              "      <th>Date</th>\n",
              "      <th>Open</th>\n",
              "      <th>High</th>\n",
              "      <th>Low</th>\n",
              "      <th>Close</th>\n",
              "      <th>Month</th>\n",
              "      <th>Year</th>\n",
              "    </tr>\n",
              "  </thead>\n",
              "  <tbody>\n",
              "    <tr>\n",
              "      <th>0</th>\n",
              "      <td>2005-07-01</td>\n",
              "      <td>13.00</td>\n",
              "      <td>14.00</td>\n",
              "      <td>11.25</td>\n",
              "      <td>12.46</td>\n",
              "      <td>7</td>\n",
              "      <td>2005</td>\n",
              "    </tr>\n",
              "    <tr>\n",
              "      <th>1</th>\n",
              "      <td>2005-08-01</td>\n",
              "      <td>12.58</td>\n",
              "      <td>14.88</td>\n",
              "      <td>12.55</td>\n",
              "      <td>13.42</td>\n",
              "      <td>8</td>\n",
              "      <td>2005</td>\n",
              "    </tr>\n",
              "    <tr>\n",
              "      <th>2</th>\n",
              "      <td>2005-09-01</td>\n",
              "      <td>13.48</td>\n",
              "      <td>14.87</td>\n",
              "      <td>12.27</td>\n",
              "      <td>13.30</td>\n",
              "      <td>9</td>\n",
              "      <td>2005</td>\n",
              "    </tr>\n",
              "    <tr>\n",
              "      <th>3</th>\n",
              "      <td>2005-10-01</td>\n",
              "      <td>13.20</td>\n",
              "      <td>14.47</td>\n",
              "      <td>12.40</td>\n",
              "      <td>12.99</td>\n",
              "      <td>10</td>\n",
              "      <td>2005</td>\n",
              "    </tr>\n",
              "    <tr>\n",
              "      <th>4</th>\n",
              "      <td>2005-11-01</td>\n",
              "      <td>13.35</td>\n",
              "      <td>13.88</td>\n",
              "      <td>12.88</td>\n",
              "      <td>13.41</td>\n",
              "      <td>11</td>\n",
              "      <td>2005</td>\n",
              "    </tr>\n",
              "  </tbody>\n",
              "</table>\n",
              "</div>\n",
              "      <button class=\"colab-df-convert\" onclick=\"convertToInteractive('df-981cb011-b099-4034-89ae-c2f48aff8598')\"\n",
              "              title=\"Convert this dataframe to an interactive table.\"\n",
              "              style=\"display:none;\">\n",
              "        \n",
              "  <svg xmlns=\"http://www.w3.org/2000/svg\" height=\"24px\"viewBox=\"0 0 24 24\"\n",
              "       width=\"24px\">\n",
              "    <path d=\"M0 0h24v24H0V0z\" fill=\"none\"/>\n",
              "    <path d=\"M18.56 5.44l.94 2.06.94-2.06 2.06-.94-2.06-.94-.94-2.06-.94 2.06-2.06.94zm-11 1L8.5 8.5l.94-2.06 2.06-.94-2.06-.94L8.5 2.5l-.94 2.06-2.06.94zm10 10l.94 2.06.94-2.06 2.06-.94-2.06-.94-.94-2.06-.94 2.06-2.06.94z\"/><path d=\"M17.41 7.96l-1.37-1.37c-.4-.4-.92-.59-1.43-.59-.52 0-1.04.2-1.43.59L10.3 9.45l-7.72 7.72c-.78.78-.78 2.05 0 2.83L4 21.41c.39.39.9.59 1.41.59.51 0 1.02-.2 1.41-.59l7.78-7.78 2.81-2.81c.8-.78.8-2.07 0-2.86zM5.41 20L4 18.59l7.72-7.72 1.47 1.35L5.41 20z\"/>\n",
              "  </svg>\n",
              "      </button>\n",
              "      \n",
              "  <style>\n",
              "    .colab-df-container {\n",
              "      display:flex;\n",
              "      flex-wrap:wrap;\n",
              "      gap: 12px;\n",
              "    }\n",
              "\n",
              "    .colab-df-convert {\n",
              "      background-color: #E8F0FE;\n",
              "      border: none;\n",
              "      border-radius: 50%;\n",
              "      cursor: pointer;\n",
              "      display: none;\n",
              "      fill: #1967D2;\n",
              "      height: 32px;\n",
              "      padding: 0 0 0 0;\n",
              "      width: 32px;\n",
              "    }\n",
              "\n",
              "    .colab-df-convert:hover {\n",
              "      background-color: #E2EBFA;\n",
              "      box-shadow: 0px 1px 2px rgba(60, 64, 67, 0.3), 0px 1px 3px 1px rgba(60, 64, 67, 0.15);\n",
              "      fill: #174EA6;\n",
              "    }\n",
              "\n",
              "    [theme=dark] .colab-df-convert {\n",
              "      background-color: #3B4455;\n",
              "      fill: #D2E3FC;\n",
              "    }\n",
              "\n",
              "    [theme=dark] .colab-df-convert:hover {\n",
              "      background-color: #434B5C;\n",
              "      box-shadow: 0px 1px 3px 1px rgba(0, 0, 0, 0.15);\n",
              "      filter: drop-shadow(0px 1px 2px rgba(0, 0, 0, 0.3));\n",
              "      fill: #FFFFFF;\n",
              "    }\n",
              "  </style>\n",
              "\n",
              "      <script>\n",
              "        const buttonEl =\n",
              "          document.querySelector('#df-981cb011-b099-4034-89ae-c2f48aff8598 button.colab-df-convert');\n",
              "        buttonEl.style.display =\n",
              "          google.colab.kernel.accessAllowed ? 'block' : 'none';\n",
              "\n",
              "        async function convertToInteractive(key) {\n",
              "          const element = document.querySelector('#df-981cb011-b099-4034-89ae-c2f48aff8598');\n",
              "          const dataTable =\n",
              "            await google.colab.kernel.invokeFunction('convertToInteractive',\n",
              "                                                     [key], {});\n",
              "          if (!dataTable) return;\n",
              "\n",
              "          const docLinkHtml = 'Like what you see? Visit the ' +\n",
              "            '<a target=\"_blank\" href=https://colab.research.google.com/notebooks/data_table.ipynb>data table notebook</a>'\n",
              "            + ' to learn more about interactive tables.';\n",
              "          element.innerHTML = '';\n",
              "          dataTable['output_type'] = 'display_data';\n",
              "          await google.colab.output.renderOutput(dataTable, element);\n",
              "          const docLink = document.createElement('div');\n",
              "          docLink.innerHTML = docLinkHtml;\n",
              "          element.appendChild(docLink);\n",
              "        }\n",
              "      </script>\n",
              "    </div>\n",
              "  </div>\n",
              "  "
            ]
          },
          "metadata": {},
          "execution_count": 22
        }
      ]
    },
    {
      "cell_type": "code",
      "source": [
        "df.index= df['Date']\n",
        "df.drop('Date', axis= 1, inplace= True)"
      ],
      "metadata": {
        "id": "zRa1sLcnND3l"
      },
      "execution_count": 23,
      "outputs": []
    },
    {
      "cell_type": "code",
      "source": [
        "df.head()"
      ],
      "metadata": {
        "colab": {
          "base_uri": "https://localhost:8080/",
          "height": 238
        },
        "id": "oyVyPkneNJlC",
        "outputId": "8119181a-08fb-40cf-c9af-4d7df34e373d"
      },
      "execution_count": 24,
      "outputs": [
        {
          "output_type": "execute_result",
          "data": {
            "text/plain": [
              "             Open   High    Low  Close  Month  Year\n",
              "Date                                               \n",
              "2005-07-01  13.00  14.00  11.25  12.46      7  2005\n",
              "2005-08-01  12.58  14.88  12.55  13.42      8  2005\n",
              "2005-09-01  13.48  14.87  12.27  13.30      9  2005\n",
              "2005-10-01  13.20  14.47  12.40  12.99     10  2005\n",
              "2005-11-01  13.35  13.88  12.88  13.41     11  2005"
            ],
            "text/html": [
              "\n",
              "  <div id=\"df-9cbdba3e-a9ff-4a1f-accf-63fc9802d05b\">\n",
              "    <div class=\"colab-df-container\">\n",
              "      <div>\n",
              "<style scoped>\n",
              "    .dataframe tbody tr th:only-of-type {\n",
              "        vertical-align: middle;\n",
              "    }\n",
              "\n",
              "    .dataframe tbody tr th {\n",
              "        vertical-align: top;\n",
              "    }\n",
              "\n",
              "    .dataframe thead th {\n",
              "        text-align: right;\n",
              "    }\n",
              "</style>\n",
              "<table border=\"1\" class=\"dataframe\">\n",
              "  <thead>\n",
              "    <tr style=\"text-align: right;\">\n",
              "      <th></th>\n",
              "      <th>Open</th>\n",
              "      <th>High</th>\n",
              "      <th>Low</th>\n",
              "      <th>Close</th>\n",
              "      <th>Month</th>\n",
              "      <th>Year</th>\n",
              "    </tr>\n",
              "    <tr>\n",
              "      <th>Date</th>\n",
              "      <th></th>\n",
              "      <th></th>\n",
              "      <th></th>\n",
              "      <th></th>\n",
              "      <th></th>\n",
              "      <th></th>\n",
              "    </tr>\n",
              "  </thead>\n",
              "  <tbody>\n",
              "    <tr>\n",
              "      <th>2005-07-01</th>\n",
              "      <td>13.00</td>\n",
              "      <td>14.00</td>\n",
              "      <td>11.25</td>\n",
              "      <td>12.46</td>\n",
              "      <td>7</td>\n",
              "      <td>2005</td>\n",
              "    </tr>\n",
              "    <tr>\n",
              "      <th>2005-08-01</th>\n",
              "      <td>12.58</td>\n",
              "      <td>14.88</td>\n",
              "      <td>12.55</td>\n",
              "      <td>13.42</td>\n",
              "      <td>8</td>\n",
              "      <td>2005</td>\n",
              "    </tr>\n",
              "    <tr>\n",
              "      <th>2005-09-01</th>\n",
              "      <td>13.48</td>\n",
              "      <td>14.87</td>\n",
              "      <td>12.27</td>\n",
              "      <td>13.30</td>\n",
              "      <td>9</td>\n",
              "      <td>2005</td>\n",
              "    </tr>\n",
              "    <tr>\n",
              "      <th>2005-10-01</th>\n",
              "      <td>13.20</td>\n",
              "      <td>14.47</td>\n",
              "      <td>12.40</td>\n",
              "      <td>12.99</td>\n",
              "      <td>10</td>\n",
              "      <td>2005</td>\n",
              "    </tr>\n",
              "    <tr>\n",
              "      <th>2005-11-01</th>\n",
              "      <td>13.35</td>\n",
              "      <td>13.88</td>\n",
              "      <td>12.88</td>\n",
              "      <td>13.41</td>\n",
              "      <td>11</td>\n",
              "      <td>2005</td>\n",
              "    </tr>\n",
              "  </tbody>\n",
              "</table>\n",
              "</div>\n",
              "      <button class=\"colab-df-convert\" onclick=\"convertToInteractive('df-9cbdba3e-a9ff-4a1f-accf-63fc9802d05b')\"\n",
              "              title=\"Convert this dataframe to an interactive table.\"\n",
              "              style=\"display:none;\">\n",
              "        \n",
              "  <svg xmlns=\"http://www.w3.org/2000/svg\" height=\"24px\"viewBox=\"0 0 24 24\"\n",
              "       width=\"24px\">\n",
              "    <path d=\"M0 0h24v24H0V0z\" fill=\"none\"/>\n",
              "    <path d=\"M18.56 5.44l.94 2.06.94-2.06 2.06-.94-2.06-.94-.94-2.06-.94 2.06-2.06.94zm-11 1L8.5 8.5l.94-2.06 2.06-.94-2.06-.94L8.5 2.5l-.94 2.06-2.06.94zm10 10l.94 2.06.94-2.06 2.06-.94-2.06-.94-.94-2.06-.94 2.06-2.06.94z\"/><path d=\"M17.41 7.96l-1.37-1.37c-.4-.4-.92-.59-1.43-.59-.52 0-1.04.2-1.43.59L10.3 9.45l-7.72 7.72c-.78.78-.78 2.05 0 2.83L4 21.41c.39.39.9.59 1.41.59.51 0 1.02-.2 1.41-.59l7.78-7.78 2.81-2.81c.8-.78.8-2.07 0-2.86zM5.41 20L4 18.59l7.72-7.72 1.47 1.35L5.41 20z\"/>\n",
              "  </svg>\n",
              "      </button>\n",
              "      \n",
              "  <style>\n",
              "    .colab-df-container {\n",
              "      display:flex;\n",
              "      flex-wrap:wrap;\n",
              "      gap: 12px;\n",
              "    }\n",
              "\n",
              "    .colab-df-convert {\n",
              "      background-color: #E8F0FE;\n",
              "      border: none;\n",
              "      border-radius: 50%;\n",
              "      cursor: pointer;\n",
              "      display: none;\n",
              "      fill: #1967D2;\n",
              "      height: 32px;\n",
              "      padding: 0 0 0 0;\n",
              "      width: 32px;\n",
              "    }\n",
              "\n",
              "    .colab-df-convert:hover {\n",
              "      background-color: #E2EBFA;\n",
              "      box-shadow: 0px 1px 2px rgba(60, 64, 67, 0.3), 0px 1px 3px 1px rgba(60, 64, 67, 0.15);\n",
              "      fill: #174EA6;\n",
              "    }\n",
              "\n",
              "    [theme=dark] .colab-df-convert {\n",
              "      background-color: #3B4455;\n",
              "      fill: #D2E3FC;\n",
              "    }\n",
              "\n",
              "    [theme=dark] .colab-df-convert:hover {\n",
              "      background-color: #434B5C;\n",
              "      box-shadow: 0px 1px 3px 1px rgba(0, 0, 0, 0.15);\n",
              "      filter: drop-shadow(0px 1px 2px rgba(0, 0, 0, 0.3));\n",
              "      fill: #FFFFFF;\n",
              "    }\n",
              "  </style>\n",
              "\n",
              "      <script>\n",
              "        const buttonEl =\n",
              "          document.querySelector('#df-9cbdba3e-a9ff-4a1f-accf-63fc9802d05b button.colab-df-convert');\n",
              "        buttonEl.style.display =\n",
              "          google.colab.kernel.accessAllowed ? 'block' : 'none';\n",
              "\n",
              "        async function convertToInteractive(key) {\n",
              "          const element = document.querySelector('#df-9cbdba3e-a9ff-4a1f-accf-63fc9802d05b');\n",
              "          const dataTable =\n",
              "            await google.colab.kernel.invokeFunction('convertToInteractive',\n",
              "                                                     [key], {});\n",
              "          if (!dataTable) return;\n",
              "\n",
              "          const docLinkHtml = 'Like what you see? Visit the ' +\n",
              "            '<a target=\"_blank\" href=https://colab.research.google.com/notebooks/data_table.ipynb>data table notebook</a>'\n",
              "            + ' to learn more about interactive tables.';\n",
              "          element.innerHTML = '';\n",
              "          dataTable['output_type'] = 'display_data';\n",
              "          await google.colab.output.renderOutput(dataTable, element);\n",
              "          const docLink = document.createElement('div');\n",
              "          docLink.innerHTML = docLinkHtml;\n",
              "          element.appendChild(docLink);\n",
              "        }\n",
              "      </script>\n",
              "    </div>\n",
              "  </div>\n",
              "  "
            ]
          },
          "metadata": {},
          "execution_count": 24
        }
      ]
    },
    {
      "cell_type": "markdown",
      "source": [
        "Feature Selection"
      ],
      "metadata": {
        "id": "ptYFRVa9NQ_1"
      }
    },
    {
      "cell_type": "code",
      "source": [
        "#Removing Multicollinearity between independent variables\n",
        "from statsmodels.stats.outliers_influence import variance_inflation_factor\n",
        "\n",
        "def calc_vif(X):\n",
        "\n",
        "  vif = pd.DataFrame()\n",
        "  vif['Variables']= X.columns\n",
        "  vif['VIF']= [variance_inflation_factor(X.values, i) for i in range(X.shape[1])]\n",
        "  return (vif)"
      ],
      "metadata": {
        "id": "iXHcz6LENNBq"
      },
      "execution_count": 25,
      "outputs": []
    },
    {
      "cell_type": "code",
      "source": [
        "calc_vif(df[[i for i in df.describe().columns if i not in ['Close', 'Month', 'Year']]])"
      ],
      "metadata": {
        "colab": {
          "base_uri": "https://localhost:8080/",
          "height": 143
        },
        "id": "Rnwwof80Ncds",
        "outputId": "d7b4e7c4-3b31-4ef1-bd16-26d576addeb2"
      },
      "execution_count": 26,
      "outputs": [
        {
          "output_type": "execute_result",
          "data": {
            "text/plain": [
              "  Variables         VIF\n",
              "0      Open  175.185704\n",
              "1      High  167.057523\n",
              "2       Low   71.574137"
            ],
            "text/html": [
              "\n",
              "  <div id=\"df-0bf22cbd-3fff-4aff-88a1-cd683442d150\">\n",
              "    <div class=\"colab-df-container\">\n",
              "      <div>\n",
              "<style scoped>\n",
              "    .dataframe tbody tr th:only-of-type {\n",
              "        vertical-align: middle;\n",
              "    }\n",
              "\n",
              "    .dataframe tbody tr th {\n",
              "        vertical-align: top;\n",
              "    }\n",
              "\n",
              "    .dataframe thead th {\n",
              "        text-align: right;\n",
              "    }\n",
              "</style>\n",
              "<table border=\"1\" class=\"dataframe\">\n",
              "  <thead>\n",
              "    <tr style=\"text-align: right;\">\n",
              "      <th></th>\n",
              "      <th>Variables</th>\n",
              "      <th>VIF</th>\n",
              "    </tr>\n",
              "  </thead>\n",
              "  <tbody>\n",
              "    <tr>\n",
              "      <th>0</th>\n",
              "      <td>Open</td>\n",
              "      <td>175.185704</td>\n",
              "    </tr>\n",
              "    <tr>\n",
              "      <th>1</th>\n",
              "      <td>High</td>\n",
              "      <td>167.057523</td>\n",
              "    </tr>\n",
              "    <tr>\n",
              "      <th>2</th>\n",
              "      <td>Low</td>\n",
              "      <td>71.574137</td>\n",
              "    </tr>\n",
              "  </tbody>\n",
              "</table>\n",
              "</div>\n",
              "      <button class=\"colab-df-convert\" onclick=\"convertToInteractive('df-0bf22cbd-3fff-4aff-88a1-cd683442d150')\"\n",
              "              title=\"Convert this dataframe to an interactive table.\"\n",
              "              style=\"display:none;\">\n",
              "        \n",
              "  <svg xmlns=\"http://www.w3.org/2000/svg\" height=\"24px\"viewBox=\"0 0 24 24\"\n",
              "       width=\"24px\">\n",
              "    <path d=\"M0 0h24v24H0V0z\" fill=\"none\"/>\n",
              "    <path d=\"M18.56 5.44l.94 2.06.94-2.06 2.06-.94-2.06-.94-.94-2.06-.94 2.06-2.06.94zm-11 1L8.5 8.5l.94-2.06 2.06-.94-2.06-.94L8.5 2.5l-.94 2.06-2.06.94zm10 10l.94 2.06.94-2.06 2.06-.94-2.06-.94-.94-2.06-.94 2.06-2.06.94z\"/><path d=\"M17.41 7.96l-1.37-1.37c-.4-.4-.92-.59-1.43-.59-.52 0-1.04.2-1.43.59L10.3 9.45l-7.72 7.72c-.78.78-.78 2.05 0 2.83L4 21.41c.39.39.9.59 1.41.59.51 0 1.02-.2 1.41-.59l7.78-7.78 2.81-2.81c.8-.78.8-2.07 0-2.86zM5.41 20L4 18.59l7.72-7.72 1.47 1.35L5.41 20z\"/>\n",
              "  </svg>\n",
              "      </button>\n",
              "      \n",
              "  <style>\n",
              "    .colab-df-container {\n",
              "      display:flex;\n",
              "      flex-wrap:wrap;\n",
              "      gap: 12px;\n",
              "    }\n",
              "\n",
              "    .colab-df-convert {\n",
              "      background-color: #E8F0FE;\n",
              "      border: none;\n",
              "      border-radius: 50%;\n",
              "      cursor: pointer;\n",
              "      display: none;\n",
              "      fill: #1967D2;\n",
              "      height: 32px;\n",
              "      padding: 0 0 0 0;\n",
              "      width: 32px;\n",
              "    }\n",
              "\n",
              "    .colab-df-convert:hover {\n",
              "      background-color: #E2EBFA;\n",
              "      box-shadow: 0px 1px 2px rgba(60, 64, 67, 0.3), 0px 1px 3px 1px rgba(60, 64, 67, 0.15);\n",
              "      fill: #174EA6;\n",
              "    }\n",
              "\n",
              "    [theme=dark] .colab-df-convert {\n",
              "      background-color: #3B4455;\n",
              "      fill: #D2E3FC;\n",
              "    }\n",
              "\n",
              "    [theme=dark] .colab-df-convert:hover {\n",
              "      background-color: #434B5C;\n",
              "      box-shadow: 0px 1px 3px 1px rgba(0, 0, 0, 0.15);\n",
              "      filter: drop-shadow(0px 1px 2px rgba(0, 0, 0, 0.3));\n",
              "      fill: #FFFFFF;\n",
              "    }\n",
              "  </style>\n",
              "\n",
              "      <script>\n",
              "        const buttonEl =\n",
              "          document.querySelector('#df-0bf22cbd-3fff-4aff-88a1-cd683442d150 button.colab-df-convert');\n",
              "        buttonEl.style.display =\n",
              "          google.colab.kernel.accessAllowed ? 'block' : 'none';\n",
              "\n",
              "        async function convertToInteractive(key) {\n",
              "          const element = document.querySelector('#df-0bf22cbd-3fff-4aff-88a1-cd683442d150');\n",
              "          const dataTable =\n",
              "            await google.colab.kernel.invokeFunction('convertToInteractive',\n",
              "                                                     [key], {});\n",
              "          if (!dataTable) return;\n",
              "\n",
              "          const docLinkHtml = 'Like what you see? Visit the ' +\n",
              "            '<a target=\"_blank\" href=https://colab.research.google.com/notebooks/data_table.ipynb>data table notebook</a>'\n",
              "            + ' to learn more about interactive tables.';\n",
              "          element.innerHTML = '';\n",
              "          dataTable['output_type'] = 'display_data';\n",
              "          await google.colab.output.renderOutput(dataTable, element);\n",
              "          const docLink = document.createElement('div');\n",
              "          docLink.innerHTML = docLinkHtml;\n",
              "          element.appendChild(docLink);\n",
              "        }\n",
              "      </script>\n",
              "    </div>\n",
              "  </div>\n",
              "  "
            ]
          },
          "metadata": {},
          "execution_count": 26
        }
      ]
    },
    {
      "cell_type": "code",
      "source": [
        "df.drop('Open',axis=1,inplace=True)"
      ],
      "metadata": {
        "id": "XveksEplNogf"
      },
      "execution_count": 27,
      "outputs": []
    },
    {
      "cell_type": "code",
      "source": [
        "calc_vif(df[[i for i in df.describe().columns if i not in ['Close', 'Month', 'Year']]])"
      ],
      "metadata": {
        "colab": {
          "base_uri": "https://localhost:8080/",
          "height": 112
        },
        "id": "crqZNq5CjMxB",
        "outputId": "db8e0546-1e42-4ece-98bc-96893f75b581"
      },
      "execution_count": 28,
      "outputs": [
        {
          "output_type": "execute_result",
          "data": {
            "text/plain": [
              "  Variables        VIF\n",
              "0      High  62.598129\n",
              "1       Low  62.598129"
            ],
            "text/html": [
              "\n",
              "  <div id=\"df-1e42c3ab-d7ad-4bd8-8b34-46f3352f42d1\">\n",
              "    <div class=\"colab-df-container\">\n",
              "      <div>\n",
              "<style scoped>\n",
              "    .dataframe tbody tr th:only-of-type {\n",
              "        vertical-align: middle;\n",
              "    }\n",
              "\n",
              "    .dataframe tbody tr th {\n",
              "        vertical-align: top;\n",
              "    }\n",
              "\n",
              "    .dataframe thead th {\n",
              "        text-align: right;\n",
              "    }\n",
              "</style>\n",
              "<table border=\"1\" class=\"dataframe\">\n",
              "  <thead>\n",
              "    <tr style=\"text-align: right;\">\n",
              "      <th></th>\n",
              "      <th>Variables</th>\n",
              "      <th>VIF</th>\n",
              "    </tr>\n",
              "  </thead>\n",
              "  <tbody>\n",
              "    <tr>\n",
              "      <th>0</th>\n",
              "      <td>High</td>\n",
              "      <td>62.598129</td>\n",
              "    </tr>\n",
              "    <tr>\n",
              "      <th>1</th>\n",
              "      <td>Low</td>\n",
              "      <td>62.598129</td>\n",
              "    </tr>\n",
              "  </tbody>\n",
              "</table>\n",
              "</div>\n",
              "      <button class=\"colab-df-convert\" onclick=\"convertToInteractive('df-1e42c3ab-d7ad-4bd8-8b34-46f3352f42d1')\"\n",
              "              title=\"Convert this dataframe to an interactive table.\"\n",
              "              style=\"display:none;\">\n",
              "        \n",
              "  <svg xmlns=\"http://www.w3.org/2000/svg\" height=\"24px\"viewBox=\"0 0 24 24\"\n",
              "       width=\"24px\">\n",
              "    <path d=\"M0 0h24v24H0V0z\" fill=\"none\"/>\n",
              "    <path d=\"M18.56 5.44l.94 2.06.94-2.06 2.06-.94-2.06-.94-.94-2.06-.94 2.06-2.06.94zm-11 1L8.5 8.5l.94-2.06 2.06-.94-2.06-.94L8.5 2.5l-.94 2.06-2.06.94zm10 10l.94 2.06.94-2.06 2.06-.94-2.06-.94-.94-2.06-.94 2.06-2.06.94z\"/><path d=\"M17.41 7.96l-1.37-1.37c-.4-.4-.92-.59-1.43-.59-.52 0-1.04.2-1.43.59L10.3 9.45l-7.72 7.72c-.78.78-.78 2.05 0 2.83L4 21.41c.39.39.9.59 1.41.59.51 0 1.02-.2 1.41-.59l7.78-7.78 2.81-2.81c.8-.78.8-2.07 0-2.86zM5.41 20L4 18.59l7.72-7.72 1.47 1.35L5.41 20z\"/>\n",
              "  </svg>\n",
              "      </button>\n",
              "      \n",
              "  <style>\n",
              "    .colab-df-container {\n",
              "      display:flex;\n",
              "      flex-wrap:wrap;\n",
              "      gap: 12px;\n",
              "    }\n",
              "\n",
              "    .colab-df-convert {\n",
              "      background-color: #E8F0FE;\n",
              "      border: none;\n",
              "      border-radius: 50%;\n",
              "      cursor: pointer;\n",
              "      display: none;\n",
              "      fill: #1967D2;\n",
              "      height: 32px;\n",
              "      padding: 0 0 0 0;\n",
              "      width: 32px;\n",
              "    }\n",
              "\n",
              "    .colab-df-convert:hover {\n",
              "      background-color: #E2EBFA;\n",
              "      box-shadow: 0px 1px 2px rgba(60, 64, 67, 0.3), 0px 1px 3px 1px rgba(60, 64, 67, 0.15);\n",
              "      fill: #174EA6;\n",
              "    }\n",
              "\n",
              "    [theme=dark] .colab-df-convert {\n",
              "      background-color: #3B4455;\n",
              "      fill: #D2E3FC;\n",
              "    }\n",
              "\n",
              "    [theme=dark] .colab-df-convert:hover {\n",
              "      background-color: #434B5C;\n",
              "      box-shadow: 0px 1px 3px 1px rgba(0, 0, 0, 0.15);\n",
              "      filter: drop-shadow(0px 1px 2px rgba(0, 0, 0, 0.3));\n",
              "      fill: #FFFFFF;\n",
              "    }\n",
              "  </style>\n",
              "\n",
              "      <script>\n",
              "        const buttonEl =\n",
              "          document.querySelector('#df-1e42c3ab-d7ad-4bd8-8b34-46f3352f42d1 button.colab-df-convert');\n",
              "        buttonEl.style.display =\n",
              "          google.colab.kernel.accessAllowed ? 'block' : 'none';\n",
              "\n",
              "        async function convertToInteractive(key) {\n",
              "          const element = document.querySelector('#df-1e42c3ab-d7ad-4bd8-8b34-46f3352f42d1');\n",
              "          const dataTable =\n",
              "            await google.colab.kernel.invokeFunction('convertToInteractive',\n",
              "                                                     [key], {});\n",
              "          if (!dataTable) return;\n",
              "\n",
              "          const docLinkHtml = 'Like what you see? Visit the ' +\n",
              "            '<a target=\"_blank\" href=https://colab.research.google.com/notebooks/data_table.ipynb>data table notebook</a>'\n",
              "            + ' to learn more about interactive tables.';\n",
              "          element.innerHTML = '';\n",
              "          dataTable['output_type'] = 'display_data';\n",
              "          await google.colab.output.renderOutput(dataTable, element);\n",
              "          const docLink = document.createElement('div');\n",
              "          docLink.innerHTML = docLinkHtml;\n",
              "          element.appendChild(docLink);\n",
              "        }\n",
              "      </script>\n",
              "    </div>\n",
              "  </div>\n",
              "  "
            ]
          },
          "metadata": {},
          "execution_count": 28
        }
      ]
    },
    {
      "cell_type": "code",
      "source": [
        "df.drop('High',axis=1,inplace=True)"
      ],
      "metadata": {
        "id": "sKwNUVnejQ4g"
      },
      "execution_count": 29,
      "outputs": []
    },
    {
      "cell_type": "code",
      "source": [
        "df.head()"
      ],
      "metadata": {
        "colab": {
          "base_uri": "https://localhost:8080/",
          "height": 238
        },
        "id": "0j9jriFYh3eJ",
        "outputId": "b4795294-ffd6-4d9d-cf48-201d0d82f0b7"
      },
      "execution_count": 30,
      "outputs": [
        {
          "output_type": "execute_result",
          "data": {
            "text/plain": [
              "              Low  Close  Month  Year\n",
              "Date                                 \n",
              "2005-07-01  11.25  12.46      7  2005\n",
              "2005-08-01  12.55  13.42      8  2005\n",
              "2005-09-01  12.27  13.30      9  2005\n",
              "2005-10-01  12.40  12.99     10  2005\n",
              "2005-11-01  12.88  13.41     11  2005"
            ],
            "text/html": [
              "\n",
              "  <div id=\"df-5e78b238-afc2-430a-b3e3-2a2e29341010\">\n",
              "    <div class=\"colab-df-container\">\n",
              "      <div>\n",
              "<style scoped>\n",
              "    .dataframe tbody tr th:only-of-type {\n",
              "        vertical-align: middle;\n",
              "    }\n",
              "\n",
              "    .dataframe tbody tr th {\n",
              "        vertical-align: top;\n",
              "    }\n",
              "\n",
              "    .dataframe thead th {\n",
              "        text-align: right;\n",
              "    }\n",
              "</style>\n",
              "<table border=\"1\" class=\"dataframe\">\n",
              "  <thead>\n",
              "    <tr style=\"text-align: right;\">\n",
              "      <th></th>\n",
              "      <th>Low</th>\n",
              "      <th>Close</th>\n",
              "      <th>Month</th>\n",
              "      <th>Year</th>\n",
              "    </tr>\n",
              "    <tr>\n",
              "      <th>Date</th>\n",
              "      <th></th>\n",
              "      <th></th>\n",
              "      <th></th>\n",
              "      <th></th>\n",
              "    </tr>\n",
              "  </thead>\n",
              "  <tbody>\n",
              "    <tr>\n",
              "      <th>2005-07-01</th>\n",
              "      <td>11.25</td>\n",
              "      <td>12.46</td>\n",
              "      <td>7</td>\n",
              "      <td>2005</td>\n",
              "    </tr>\n",
              "    <tr>\n",
              "      <th>2005-08-01</th>\n",
              "      <td>12.55</td>\n",
              "      <td>13.42</td>\n",
              "      <td>8</td>\n",
              "      <td>2005</td>\n",
              "    </tr>\n",
              "    <tr>\n",
              "      <th>2005-09-01</th>\n",
              "      <td>12.27</td>\n",
              "      <td>13.30</td>\n",
              "      <td>9</td>\n",
              "      <td>2005</td>\n",
              "    </tr>\n",
              "    <tr>\n",
              "      <th>2005-10-01</th>\n",
              "      <td>12.40</td>\n",
              "      <td>12.99</td>\n",
              "      <td>10</td>\n",
              "      <td>2005</td>\n",
              "    </tr>\n",
              "    <tr>\n",
              "      <th>2005-11-01</th>\n",
              "      <td>12.88</td>\n",
              "      <td>13.41</td>\n",
              "      <td>11</td>\n",
              "      <td>2005</td>\n",
              "    </tr>\n",
              "  </tbody>\n",
              "</table>\n",
              "</div>\n",
              "      <button class=\"colab-df-convert\" onclick=\"convertToInteractive('df-5e78b238-afc2-430a-b3e3-2a2e29341010')\"\n",
              "              title=\"Convert this dataframe to an interactive table.\"\n",
              "              style=\"display:none;\">\n",
              "        \n",
              "  <svg xmlns=\"http://www.w3.org/2000/svg\" height=\"24px\"viewBox=\"0 0 24 24\"\n",
              "       width=\"24px\">\n",
              "    <path d=\"M0 0h24v24H0V0z\" fill=\"none\"/>\n",
              "    <path d=\"M18.56 5.44l.94 2.06.94-2.06 2.06-.94-2.06-.94-.94-2.06-.94 2.06-2.06.94zm-11 1L8.5 8.5l.94-2.06 2.06-.94-2.06-.94L8.5 2.5l-.94 2.06-2.06.94zm10 10l.94 2.06.94-2.06 2.06-.94-2.06-.94-.94-2.06-.94 2.06-2.06.94z\"/><path d=\"M17.41 7.96l-1.37-1.37c-.4-.4-.92-.59-1.43-.59-.52 0-1.04.2-1.43.59L10.3 9.45l-7.72 7.72c-.78.78-.78 2.05 0 2.83L4 21.41c.39.39.9.59 1.41.59.51 0 1.02-.2 1.41-.59l7.78-7.78 2.81-2.81c.8-.78.8-2.07 0-2.86zM5.41 20L4 18.59l7.72-7.72 1.47 1.35L5.41 20z\"/>\n",
              "  </svg>\n",
              "      </button>\n",
              "      \n",
              "  <style>\n",
              "    .colab-df-container {\n",
              "      display:flex;\n",
              "      flex-wrap:wrap;\n",
              "      gap: 12px;\n",
              "    }\n",
              "\n",
              "    .colab-df-convert {\n",
              "      background-color: #E8F0FE;\n",
              "      border: none;\n",
              "      border-radius: 50%;\n",
              "      cursor: pointer;\n",
              "      display: none;\n",
              "      fill: #1967D2;\n",
              "      height: 32px;\n",
              "      padding: 0 0 0 0;\n",
              "      width: 32px;\n",
              "    }\n",
              "\n",
              "    .colab-df-convert:hover {\n",
              "      background-color: #E2EBFA;\n",
              "      box-shadow: 0px 1px 2px rgba(60, 64, 67, 0.3), 0px 1px 3px 1px rgba(60, 64, 67, 0.15);\n",
              "      fill: #174EA6;\n",
              "    }\n",
              "\n",
              "    [theme=dark] .colab-df-convert {\n",
              "      background-color: #3B4455;\n",
              "      fill: #D2E3FC;\n",
              "    }\n",
              "\n",
              "    [theme=dark] .colab-df-convert:hover {\n",
              "      background-color: #434B5C;\n",
              "      box-shadow: 0px 1px 3px 1px rgba(0, 0, 0, 0.15);\n",
              "      filter: drop-shadow(0px 1px 2px rgba(0, 0, 0, 0.3));\n",
              "      fill: #FFFFFF;\n",
              "    }\n",
              "  </style>\n",
              "\n",
              "      <script>\n",
              "        const buttonEl =\n",
              "          document.querySelector('#df-5e78b238-afc2-430a-b3e3-2a2e29341010 button.colab-df-convert');\n",
              "        buttonEl.style.display =\n",
              "          google.colab.kernel.accessAllowed ? 'block' : 'none';\n",
              "\n",
              "        async function convertToInteractive(key) {\n",
              "          const element = document.querySelector('#df-5e78b238-afc2-430a-b3e3-2a2e29341010');\n",
              "          const dataTable =\n",
              "            await google.colab.kernel.invokeFunction('convertToInteractive',\n",
              "                                                     [key], {});\n",
              "          if (!dataTable) return;\n",
              "\n",
              "          const docLinkHtml = 'Like what you see? Visit the ' +\n",
              "            '<a target=\"_blank\" href=https://colab.research.google.com/notebooks/data_table.ipynb>data table notebook</a>'\n",
              "            + ' to learn more about interactive tables.';\n",
              "          element.innerHTML = '';\n",
              "          dataTable['output_type'] = 'display_data';\n",
              "          await google.colab.output.renderOutput(dataTable, element);\n",
              "          const docLink = document.createElement('div');\n",
              "          docLink.innerHTML = docLinkHtml;\n",
              "          element.appendChild(docLink);\n",
              "        }\n",
              "      </script>\n",
              "    </div>\n",
              "  </div>\n",
              "  "
            ]
          },
          "metadata": {},
          "execution_count": 30
        }
      ]
    },
    {
      "cell_type": "markdown",
      "source": [
        "**One Hot Encoding **"
      ],
      "metadata": {
        "id": "-cUb68a6iGWr"
      }
    },
    {
      "cell_type": "code",
      "source": [
        "new_df=pd.get_dummies(df,columns=['Year'])"
      ],
      "metadata": {
        "id": "xzVQ28niiJEh"
      },
      "execution_count": 31,
      "outputs": []
    },
    {
      "cell_type": "code",
      "source": [
        "new_df.head()"
      ],
      "metadata": {
        "colab": {
          "base_uri": "https://localhost:8080/",
          "height": 388
        },
        "id": "-3ZsscsKiN94",
        "outputId": "ffd17e96-63af-478b-e0cd-94b8760302b8"
      },
      "execution_count": 32,
      "outputs": [
        {
          "output_type": "execute_result",
          "data": {
            "text/plain": [
              "              Low  Close  Month  Year_2005  Year_2006  Year_2007  Year_2008  \\\n",
              "Date                                                                          \n",
              "2005-07-01  11.25  12.46      7          1          0          0          0   \n",
              "2005-08-01  12.55  13.42      8          1          0          0          0   \n",
              "2005-09-01  12.27  13.30      9          1          0          0          0   \n",
              "2005-10-01  12.40  12.99     10          1          0          0          0   \n",
              "2005-11-01  12.88  13.41     11          1          0          0          0   \n",
              "\n",
              "            Year_2009  Year_2010  Year_2011  Year_2012  Year_2013  Year_2014  \\\n",
              "Date                                                                           \n",
              "2005-07-01          0          0          0          0          0          0   \n",
              "2005-08-01          0          0          0          0          0          0   \n",
              "2005-09-01          0          0          0          0          0          0   \n",
              "2005-10-01          0          0          0          0          0          0   \n",
              "2005-11-01          0          0          0          0          0          0   \n",
              "\n",
              "            Year_2015  Year_2016  Year_2017  Year_2018  Year_2019  Year_2020  \n",
              "Date                                                                          \n",
              "2005-07-01          0          0          0          0          0          0  \n",
              "2005-08-01          0          0          0          0          0          0  \n",
              "2005-09-01          0          0          0          0          0          0  \n",
              "2005-10-01          0          0          0          0          0          0  \n",
              "2005-11-01          0          0          0          0          0          0  "
            ],
            "text/html": [
              "\n",
              "  <div id=\"df-43cad13d-14c6-4496-87e3-ce2e58595191\">\n",
              "    <div class=\"colab-df-container\">\n",
              "      <div>\n",
              "<style scoped>\n",
              "    .dataframe tbody tr th:only-of-type {\n",
              "        vertical-align: middle;\n",
              "    }\n",
              "\n",
              "    .dataframe tbody tr th {\n",
              "        vertical-align: top;\n",
              "    }\n",
              "\n",
              "    .dataframe thead th {\n",
              "        text-align: right;\n",
              "    }\n",
              "</style>\n",
              "<table border=\"1\" class=\"dataframe\">\n",
              "  <thead>\n",
              "    <tr style=\"text-align: right;\">\n",
              "      <th></th>\n",
              "      <th>Low</th>\n",
              "      <th>Close</th>\n",
              "      <th>Month</th>\n",
              "      <th>Year_2005</th>\n",
              "      <th>Year_2006</th>\n",
              "      <th>Year_2007</th>\n",
              "      <th>Year_2008</th>\n",
              "      <th>Year_2009</th>\n",
              "      <th>Year_2010</th>\n",
              "      <th>Year_2011</th>\n",
              "      <th>Year_2012</th>\n",
              "      <th>Year_2013</th>\n",
              "      <th>Year_2014</th>\n",
              "      <th>Year_2015</th>\n",
              "      <th>Year_2016</th>\n",
              "      <th>Year_2017</th>\n",
              "      <th>Year_2018</th>\n",
              "      <th>Year_2019</th>\n",
              "      <th>Year_2020</th>\n",
              "    </tr>\n",
              "    <tr>\n",
              "      <th>Date</th>\n",
              "      <th></th>\n",
              "      <th></th>\n",
              "      <th></th>\n",
              "      <th></th>\n",
              "      <th></th>\n",
              "      <th></th>\n",
              "      <th></th>\n",
              "      <th></th>\n",
              "      <th></th>\n",
              "      <th></th>\n",
              "      <th></th>\n",
              "      <th></th>\n",
              "      <th></th>\n",
              "      <th></th>\n",
              "      <th></th>\n",
              "      <th></th>\n",
              "      <th></th>\n",
              "      <th></th>\n",
              "      <th></th>\n",
              "    </tr>\n",
              "  </thead>\n",
              "  <tbody>\n",
              "    <tr>\n",
              "      <th>2005-07-01</th>\n",
              "      <td>11.25</td>\n",
              "      <td>12.46</td>\n",
              "      <td>7</td>\n",
              "      <td>1</td>\n",
              "      <td>0</td>\n",
              "      <td>0</td>\n",
              "      <td>0</td>\n",
              "      <td>0</td>\n",
              "      <td>0</td>\n",
              "      <td>0</td>\n",
              "      <td>0</td>\n",
              "      <td>0</td>\n",
              "      <td>0</td>\n",
              "      <td>0</td>\n",
              "      <td>0</td>\n",
              "      <td>0</td>\n",
              "      <td>0</td>\n",
              "      <td>0</td>\n",
              "      <td>0</td>\n",
              "    </tr>\n",
              "    <tr>\n",
              "      <th>2005-08-01</th>\n",
              "      <td>12.55</td>\n",
              "      <td>13.42</td>\n",
              "      <td>8</td>\n",
              "      <td>1</td>\n",
              "      <td>0</td>\n",
              "      <td>0</td>\n",
              "      <td>0</td>\n",
              "      <td>0</td>\n",
              "      <td>0</td>\n",
              "      <td>0</td>\n",
              "      <td>0</td>\n",
              "      <td>0</td>\n",
              "      <td>0</td>\n",
              "      <td>0</td>\n",
              "      <td>0</td>\n",
              "      <td>0</td>\n",
              "      <td>0</td>\n",
              "      <td>0</td>\n",
              "      <td>0</td>\n",
              "    </tr>\n",
              "    <tr>\n",
              "      <th>2005-09-01</th>\n",
              "      <td>12.27</td>\n",
              "      <td>13.30</td>\n",
              "      <td>9</td>\n",
              "      <td>1</td>\n",
              "      <td>0</td>\n",
              "      <td>0</td>\n",
              "      <td>0</td>\n",
              "      <td>0</td>\n",
              "      <td>0</td>\n",
              "      <td>0</td>\n",
              "      <td>0</td>\n",
              "      <td>0</td>\n",
              "      <td>0</td>\n",
              "      <td>0</td>\n",
              "      <td>0</td>\n",
              "      <td>0</td>\n",
              "      <td>0</td>\n",
              "      <td>0</td>\n",
              "      <td>0</td>\n",
              "    </tr>\n",
              "    <tr>\n",
              "      <th>2005-10-01</th>\n",
              "      <td>12.40</td>\n",
              "      <td>12.99</td>\n",
              "      <td>10</td>\n",
              "      <td>1</td>\n",
              "      <td>0</td>\n",
              "      <td>0</td>\n",
              "      <td>0</td>\n",
              "      <td>0</td>\n",
              "      <td>0</td>\n",
              "      <td>0</td>\n",
              "      <td>0</td>\n",
              "      <td>0</td>\n",
              "      <td>0</td>\n",
              "      <td>0</td>\n",
              "      <td>0</td>\n",
              "      <td>0</td>\n",
              "      <td>0</td>\n",
              "      <td>0</td>\n",
              "      <td>0</td>\n",
              "    </tr>\n",
              "    <tr>\n",
              "      <th>2005-11-01</th>\n",
              "      <td>12.88</td>\n",
              "      <td>13.41</td>\n",
              "      <td>11</td>\n",
              "      <td>1</td>\n",
              "      <td>0</td>\n",
              "      <td>0</td>\n",
              "      <td>0</td>\n",
              "      <td>0</td>\n",
              "      <td>0</td>\n",
              "      <td>0</td>\n",
              "      <td>0</td>\n",
              "      <td>0</td>\n",
              "      <td>0</td>\n",
              "      <td>0</td>\n",
              "      <td>0</td>\n",
              "      <td>0</td>\n",
              "      <td>0</td>\n",
              "      <td>0</td>\n",
              "      <td>0</td>\n",
              "    </tr>\n",
              "  </tbody>\n",
              "</table>\n",
              "</div>\n",
              "      <button class=\"colab-df-convert\" onclick=\"convertToInteractive('df-43cad13d-14c6-4496-87e3-ce2e58595191')\"\n",
              "              title=\"Convert this dataframe to an interactive table.\"\n",
              "              style=\"display:none;\">\n",
              "        \n",
              "  <svg xmlns=\"http://www.w3.org/2000/svg\" height=\"24px\"viewBox=\"0 0 24 24\"\n",
              "       width=\"24px\">\n",
              "    <path d=\"M0 0h24v24H0V0z\" fill=\"none\"/>\n",
              "    <path d=\"M18.56 5.44l.94 2.06.94-2.06 2.06-.94-2.06-.94-.94-2.06-.94 2.06-2.06.94zm-11 1L8.5 8.5l.94-2.06 2.06-.94-2.06-.94L8.5 2.5l-.94 2.06-2.06.94zm10 10l.94 2.06.94-2.06 2.06-.94-2.06-.94-.94-2.06-.94 2.06-2.06.94z\"/><path d=\"M17.41 7.96l-1.37-1.37c-.4-.4-.92-.59-1.43-.59-.52 0-1.04.2-1.43.59L10.3 9.45l-7.72 7.72c-.78.78-.78 2.05 0 2.83L4 21.41c.39.39.9.59 1.41.59.51 0 1.02-.2 1.41-.59l7.78-7.78 2.81-2.81c.8-.78.8-2.07 0-2.86zM5.41 20L4 18.59l7.72-7.72 1.47 1.35L5.41 20z\"/>\n",
              "  </svg>\n",
              "      </button>\n",
              "      \n",
              "  <style>\n",
              "    .colab-df-container {\n",
              "      display:flex;\n",
              "      flex-wrap:wrap;\n",
              "      gap: 12px;\n",
              "    }\n",
              "\n",
              "    .colab-df-convert {\n",
              "      background-color: #E8F0FE;\n",
              "      border: none;\n",
              "      border-radius: 50%;\n",
              "      cursor: pointer;\n",
              "      display: none;\n",
              "      fill: #1967D2;\n",
              "      height: 32px;\n",
              "      padding: 0 0 0 0;\n",
              "      width: 32px;\n",
              "    }\n",
              "\n",
              "    .colab-df-convert:hover {\n",
              "      background-color: #E2EBFA;\n",
              "      box-shadow: 0px 1px 2px rgba(60, 64, 67, 0.3), 0px 1px 3px 1px rgba(60, 64, 67, 0.15);\n",
              "      fill: #174EA6;\n",
              "    }\n",
              "\n",
              "    [theme=dark] .colab-df-convert {\n",
              "      background-color: #3B4455;\n",
              "      fill: #D2E3FC;\n",
              "    }\n",
              "\n",
              "    [theme=dark] .colab-df-convert:hover {\n",
              "      background-color: #434B5C;\n",
              "      box-shadow: 0px 1px 3px 1px rgba(0, 0, 0, 0.15);\n",
              "      filter: drop-shadow(0px 1px 2px rgba(0, 0, 0, 0.3));\n",
              "      fill: #FFFFFF;\n",
              "    }\n",
              "  </style>\n",
              "\n",
              "      <script>\n",
              "        const buttonEl =\n",
              "          document.querySelector('#df-43cad13d-14c6-4496-87e3-ce2e58595191 button.colab-df-convert');\n",
              "        buttonEl.style.display =\n",
              "          google.colab.kernel.accessAllowed ? 'block' : 'none';\n",
              "\n",
              "        async function convertToInteractive(key) {\n",
              "          const element = document.querySelector('#df-43cad13d-14c6-4496-87e3-ce2e58595191');\n",
              "          const dataTable =\n",
              "            await google.colab.kernel.invokeFunction('convertToInteractive',\n",
              "                                                     [key], {});\n",
              "          if (!dataTable) return;\n",
              "\n",
              "          const docLinkHtml = 'Like what you see? Visit the ' +\n",
              "            '<a target=\"_blank\" href=https://colab.research.google.com/notebooks/data_table.ipynb>data table notebook</a>'\n",
              "            + ' to learn more about interactive tables.';\n",
              "          element.innerHTML = '';\n",
              "          dataTable['output_type'] = 'display_data';\n",
              "          await google.colab.output.renderOutput(dataTable, element);\n",
              "          const docLink = document.createElement('div');\n",
              "          docLink.innerHTML = docLinkHtml;\n",
              "          element.appendChild(docLink);\n",
              "        }\n",
              "      </script>\n",
              "    </div>\n",
              "  </div>\n",
              "  "
            ]
          },
          "metadata": {},
          "execution_count": 32
        }
      ]
    },
    {
      "cell_type": "markdown",
      "source": [
        "**Standardizing the data**"
      ],
      "metadata": {
        "id": "JEwdnJlLiTUS"
      }
    },
    {
      "cell_type": "code",
      "source": [
        "independent_features= [col for col in new_df if col not in ['Close', 'Month']]\n",
        "len(independent_features)"
      ],
      "metadata": {
        "colab": {
          "base_uri": "https://localhost:8080/"
        },
        "id": "kU82cA6piTAY",
        "outputId": "80f3a3c2-4073-4168-c947-abc73db656e9"
      },
      "execution_count": 33,
      "outputs": [
        {
          "output_type": "execute_result",
          "data": {
            "text/plain": [
              "17"
            ]
          },
          "metadata": {},
          "execution_count": 33
        }
      ]
    },
    {
      "cell_type": "code",
      "source": [
        "#applying zscore to selected independent variables \n",
        "X = round(new_df[independent_features].apply(zscore),3)\n",
        "\n",
        "#applying log on dependent variable\n",
        "y = np.log10(new_df['Close'])"
      ],
      "metadata": {
        "id": "FFIwnNH-ilBi"
      },
      "execution_count": 34,
      "outputs": []
    },
    {
      "cell_type": "code",
      "source": [
        "X.head()"
      ],
      "metadata": {
        "colab": {
          "base_uri": "https://localhost:8080/",
          "height": 388
        },
        "id": "o0wibBE-iv5A",
        "outputId": "0664ff50-7ea4-40f8-c60d-972ec7cd5eac"
      },
      "execution_count": 35,
      "outputs": [
        {
          "output_type": "execute_result",
          "data": {
            "text/plain": [
              "              Low  Year_2005  Year_2006  Year_2007  Year_2008  Year_2009  \\\n",
              "Date                                                                       \n",
              "2005-07-01 -0.920      5.462     -0.263     -0.263     -0.263     -0.263   \n",
              "2005-08-01 -0.906      5.462     -0.263     -0.263     -0.263     -0.263   \n",
              "2005-09-01 -0.909      5.462     -0.263     -0.263     -0.263     -0.263   \n",
              "2005-10-01 -0.907      5.462     -0.263     -0.263     -0.263     -0.263   \n",
              "2005-11-01 -0.902      5.462     -0.263     -0.263     -0.263     -0.263   \n",
              "\n",
              "            Year_2010  Year_2011  Year_2012  Year_2013  Year_2014  Year_2015  \\\n",
              "Date                                                                           \n",
              "2005-07-01     -0.263     -0.263     -0.263     -0.263     -0.263     -0.263   \n",
              "2005-08-01     -0.263     -0.263     -0.263     -0.263     -0.263     -0.263   \n",
              "2005-09-01     -0.263     -0.263     -0.263     -0.263     -0.263     -0.263   \n",
              "2005-10-01     -0.263     -0.263     -0.263     -0.263     -0.263     -0.263   \n",
              "2005-11-01     -0.263     -0.263     -0.263     -0.263     -0.263     -0.263   \n",
              "\n",
              "            Year_2016  Year_2017  Year_2018  Year_2019  Year_2020  \n",
              "Date                                                               \n",
              "2005-07-01     -0.263     -0.263     -0.263     -0.263     -0.251  \n",
              "2005-08-01     -0.263     -0.263     -0.263     -0.263     -0.251  \n",
              "2005-09-01     -0.263     -0.263     -0.263     -0.263     -0.251  \n",
              "2005-10-01     -0.263     -0.263     -0.263     -0.263     -0.251  \n",
              "2005-11-01     -0.263     -0.263     -0.263     -0.263     -0.251  "
            ],
            "text/html": [
              "\n",
              "  <div id=\"df-9ad94ec9-7170-4f95-90ed-02eb12ecdfa0\">\n",
              "    <div class=\"colab-df-container\">\n",
              "      <div>\n",
              "<style scoped>\n",
              "    .dataframe tbody tr th:only-of-type {\n",
              "        vertical-align: middle;\n",
              "    }\n",
              "\n",
              "    .dataframe tbody tr th {\n",
              "        vertical-align: top;\n",
              "    }\n",
              "\n",
              "    .dataframe thead th {\n",
              "        text-align: right;\n",
              "    }\n",
              "</style>\n",
              "<table border=\"1\" class=\"dataframe\">\n",
              "  <thead>\n",
              "    <tr style=\"text-align: right;\">\n",
              "      <th></th>\n",
              "      <th>Low</th>\n",
              "      <th>Year_2005</th>\n",
              "      <th>Year_2006</th>\n",
              "      <th>Year_2007</th>\n",
              "      <th>Year_2008</th>\n",
              "      <th>Year_2009</th>\n",
              "      <th>Year_2010</th>\n",
              "      <th>Year_2011</th>\n",
              "      <th>Year_2012</th>\n",
              "      <th>Year_2013</th>\n",
              "      <th>Year_2014</th>\n",
              "      <th>Year_2015</th>\n",
              "      <th>Year_2016</th>\n",
              "      <th>Year_2017</th>\n",
              "      <th>Year_2018</th>\n",
              "      <th>Year_2019</th>\n",
              "      <th>Year_2020</th>\n",
              "    </tr>\n",
              "    <tr>\n",
              "      <th>Date</th>\n",
              "      <th></th>\n",
              "      <th></th>\n",
              "      <th></th>\n",
              "      <th></th>\n",
              "      <th></th>\n",
              "      <th></th>\n",
              "      <th></th>\n",
              "      <th></th>\n",
              "      <th></th>\n",
              "      <th></th>\n",
              "      <th></th>\n",
              "      <th></th>\n",
              "      <th></th>\n",
              "      <th></th>\n",
              "      <th></th>\n",
              "      <th></th>\n",
              "      <th></th>\n",
              "    </tr>\n",
              "  </thead>\n",
              "  <tbody>\n",
              "    <tr>\n",
              "      <th>2005-07-01</th>\n",
              "      <td>-0.920</td>\n",
              "      <td>5.462</td>\n",
              "      <td>-0.263</td>\n",
              "      <td>-0.263</td>\n",
              "      <td>-0.263</td>\n",
              "      <td>-0.263</td>\n",
              "      <td>-0.263</td>\n",
              "      <td>-0.263</td>\n",
              "      <td>-0.263</td>\n",
              "      <td>-0.263</td>\n",
              "      <td>-0.263</td>\n",
              "      <td>-0.263</td>\n",
              "      <td>-0.263</td>\n",
              "      <td>-0.263</td>\n",
              "      <td>-0.263</td>\n",
              "      <td>-0.263</td>\n",
              "      <td>-0.251</td>\n",
              "    </tr>\n",
              "    <tr>\n",
              "      <th>2005-08-01</th>\n",
              "      <td>-0.906</td>\n",
              "      <td>5.462</td>\n",
              "      <td>-0.263</td>\n",
              "      <td>-0.263</td>\n",
              "      <td>-0.263</td>\n",
              "      <td>-0.263</td>\n",
              "      <td>-0.263</td>\n",
              "      <td>-0.263</td>\n",
              "      <td>-0.263</td>\n",
              "      <td>-0.263</td>\n",
              "      <td>-0.263</td>\n",
              "      <td>-0.263</td>\n",
              "      <td>-0.263</td>\n",
              "      <td>-0.263</td>\n",
              "      <td>-0.263</td>\n",
              "      <td>-0.263</td>\n",
              "      <td>-0.251</td>\n",
              "    </tr>\n",
              "    <tr>\n",
              "      <th>2005-09-01</th>\n",
              "      <td>-0.909</td>\n",
              "      <td>5.462</td>\n",
              "      <td>-0.263</td>\n",
              "      <td>-0.263</td>\n",
              "      <td>-0.263</td>\n",
              "      <td>-0.263</td>\n",
              "      <td>-0.263</td>\n",
              "      <td>-0.263</td>\n",
              "      <td>-0.263</td>\n",
              "      <td>-0.263</td>\n",
              "      <td>-0.263</td>\n",
              "      <td>-0.263</td>\n",
              "      <td>-0.263</td>\n",
              "      <td>-0.263</td>\n",
              "      <td>-0.263</td>\n",
              "      <td>-0.263</td>\n",
              "      <td>-0.251</td>\n",
              "    </tr>\n",
              "    <tr>\n",
              "      <th>2005-10-01</th>\n",
              "      <td>-0.907</td>\n",
              "      <td>5.462</td>\n",
              "      <td>-0.263</td>\n",
              "      <td>-0.263</td>\n",
              "      <td>-0.263</td>\n",
              "      <td>-0.263</td>\n",
              "      <td>-0.263</td>\n",
              "      <td>-0.263</td>\n",
              "      <td>-0.263</td>\n",
              "      <td>-0.263</td>\n",
              "      <td>-0.263</td>\n",
              "      <td>-0.263</td>\n",
              "      <td>-0.263</td>\n",
              "      <td>-0.263</td>\n",
              "      <td>-0.263</td>\n",
              "      <td>-0.263</td>\n",
              "      <td>-0.251</td>\n",
              "    </tr>\n",
              "    <tr>\n",
              "      <th>2005-11-01</th>\n",
              "      <td>-0.902</td>\n",
              "      <td>5.462</td>\n",
              "      <td>-0.263</td>\n",
              "      <td>-0.263</td>\n",
              "      <td>-0.263</td>\n",
              "      <td>-0.263</td>\n",
              "      <td>-0.263</td>\n",
              "      <td>-0.263</td>\n",
              "      <td>-0.263</td>\n",
              "      <td>-0.263</td>\n",
              "      <td>-0.263</td>\n",
              "      <td>-0.263</td>\n",
              "      <td>-0.263</td>\n",
              "      <td>-0.263</td>\n",
              "      <td>-0.263</td>\n",
              "      <td>-0.263</td>\n",
              "      <td>-0.251</td>\n",
              "    </tr>\n",
              "  </tbody>\n",
              "</table>\n",
              "</div>\n",
              "      <button class=\"colab-df-convert\" onclick=\"convertToInteractive('df-9ad94ec9-7170-4f95-90ed-02eb12ecdfa0')\"\n",
              "              title=\"Convert this dataframe to an interactive table.\"\n",
              "              style=\"display:none;\">\n",
              "        \n",
              "  <svg xmlns=\"http://www.w3.org/2000/svg\" height=\"24px\"viewBox=\"0 0 24 24\"\n",
              "       width=\"24px\">\n",
              "    <path d=\"M0 0h24v24H0V0z\" fill=\"none\"/>\n",
              "    <path d=\"M18.56 5.44l.94 2.06.94-2.06 2.06-.94-2.06-.94-.94-2.06-.94 2.06-2.06.94zm-11 1L8.5 8.5l.94-2.06 2.06-.94-2.06-.94L8.5 2.5l-.94 2.06-2.06.94zm10 10l.94 2.06.94-2.06 2.06-.94-2.06-.94-.94-2.06-.94 2.06-2.06.94z\"/><path d=\"M17.41 7.96l-1.37-1.37c-.4-.4-.92-.59-1.43-.59-.52 0-1.04.2-1.43.59L10.3 9.45l-7.72 7.72c-.78.78-.78 2.05 0 2.83L4 21.41c.39.39.9.59 1.41.59.51 0 1.02-.2 1.41-.59l7.78-7.78 2.81-2.81c.8-.78.8-2.07 0-2.86zM5.41 20L4 18.59l7.72-7.72 1.47 1.35L5.41 20z\"/>\n",
              "  </svg>\n",
              "      </button>\n",
              "      \n",
              "  <style>\n",
              "    .colab-df-container {\n",
              "      display:flex;\n",
              "      flex-wrap:wrap;\n",
              "      gap: 12px;\n",
              "    }\n",
              "\n",
              "    .colab-df-convert {\n",
              "      background-color: #E8F0FE;\n",
              "      border: none;\n",
              "      border-radius: 50%;\n",
              "      cursor: pointer;\n",
              "      display: none;\n",
              "      fill: #1967D2;\n",
              "      height: 32px;\n",
              "      padding: 0 0 0 0;\n",
              "      width: 32px;\n",
              "    }\n",
              "\n",
              "    .colab-df-convert:hover {\n",
              "      background-color: #E2EBFA;\n",
              "      box-shadow: 0px 1px 2px rgba(60, 64, 67, 0.3), 0px 1px 3px 1px rgba(60, 64, 67, 0.15);\n",
              "      fill: #174EA6;\n",
              "    }\n",
              "\n",
              "    [theme=dark] .colab-df-convert {\n",
              "      background-color: #3B4455;\n",
              "      fill: #D2E3FC;\n",
              "    }\n",
              "\n",
              "    [theme=dark] .colab-df-convert:hover {\n",
              "      background-color: #434B5C;\n",
              "      box-shadow: 0px 1px 3px 1px rgba(0, 0, 0, 0.15);\n",
              "      filter: drop-shadow(0px 1px 2px rgba(0, 0, 0, 0.3));\n",
              "      fill: #FFFFFF;\n",
              "    }\n",
              "  </style>\n",
              "\n",
              "      <script>\n",
              "        const buttonEl =\n",
              "          document.querySelector('#df-9ad94ec9-7170-4f95-90ed-02eb12ecdfa0 button.colab-df-convert');\n",
              "        buttonEl.style.display =\n",
              "          google.colab.kernel.accessAllowed ? 'block' : 'none';\n",
              "\n",
              "        async function convertToInteractive(key) {\n",
              "          const element = document.querySelector('#df-9ad94ec9-7170-4f95-90ed-02eb12ecdfa0');\n",
              "          const dataTable =\n",
              "            await google.colab.kernel.invokeFunction('convertToInteractive',\n",
              "                                                     [key], {});\n",
              "          if (!dataTable) return;\n",
              "\n",
              "          const docLinkHtml = 'Like what you see? Visit the ' +\n",
              "            '<a target=\"_blank\" href=https://colab.research.google.com/notebooks/data_table.ipynb>data table notebook</a>'\n",
              "            + ' to learn more about interactive tables.';\n",
              "          element.innerHTML = '';\n",
              "          dataTable['output_type'] = 'display_data';\n",
              "          await google.colab.output.renderOutput(dataTable, element);\n",
              "          const docLink = document.createElement('div');\n",
              "          docLink.innerHTML = docLinkHtml;\n",
              "          element.appendChild(docLink);\n",
              "        }\n",
              "      </script>\n",
              "    </div>\n",
              "  </div>\n",
              "  "
            ]
          },
          "metadata": {},
          "execution_count": 35
        }
      ]
    },
    {
      "cell_type": "code",
      "source": [
        "y.head()"
      ],
      "metadata": {
        "colab": {
          "base_uri": "https://localhost:8080/"
        },
        "id": "ZB7PLFkhizge",
        "outputId": "b4636e6b-11a1-4788-c2f7-49de819832d4"
      },
      "execution_count": 36,
      "outputs": [
        {
          "output_type": "execute_result",
          "data": {
            "text/plain": [
              "Date\n",
              "2005-07-01    1.095518\n",
              "2005-08-01    1.127753\n",
              "2005-09-01    1.123852\n",
              "2005-10-01    1.113609\n",
              "2005-11-01    1.127429\n",
              "Name: Close, dtype: float64"
            ]
          },
          "metadata": {},
          "execution_count": 36
        }
      ]
    },
    {
      "cell_type": "markdown",
      "source": [
        "**Train Test Split**"
      ],
      "metadata": {
        "id": "OtGEaXs3jPUB"
      }
    },
    {
      "cell_type": "code",
      "source": [
        "X_train,X_test,y_train,y_test=train_test_split(X,y,test_size=0.2,random_state=0)\n",
        "print('X_train: ',X_train.shape)\n",
        "print('X_test: ',X_test.shape)\n",
        "print('y_train: ',y_train.shape)\n",
        "print('y_test: ',y_test.shape)"
      ],
      "metadata": {
        "colab": {
          "base_uri": "https://localhost:8080/"
        },
        "id": "Sj8wvD7bjQFR",
        "outputId": "5d3da394-6dc8-44a5-8a4d-d3dd76c7df19"
      },
      "execution_count": 37,
      "outputs": [
        {
          "output_type": "stream",
          "name": "stdout",
          "text": [
            "X_train:  (148, 17)\n",
            "X_test:  (37, 17)\n",
            "y_train:  (148,)\n",
            "y_test:  (37,)\n"
          ]
        }
      ]
    },
    {
      "cell_type": "code",
      "source": [
        "#Creating DataFrames of train and test dataset\n",
        "train_df= pd.DataFrame(X_train,y_train)\n",
        "test_df= pd.DataFrame(10**y_test)\n",
        "test_df.rename(columns= {'Close': 'Actual Closing Price'}, inplace= True)"
      ],
      "metadata": {
        "id": "rhQQWoRkj1b5"
      },
      "execution_count": 38,
      "outputs": []
    },
    {
      "cell_type": "markdown",
      "source": [
        "**Linear Regression**"
      ],
      "metadata": {
        "id": "Z6nLRro1j465"
      }
    },
    {
      "cell_type": "code",
      "source": [
        "#fitting the data into Regression model\n",
        "lr=LinearRegression().fit(X_train,y_train)"
      ],
      "metadata": {
        "id": "PXGnWXksj5jY"
      },
      "execution_count": 39,
      "outputs": []
    },
    {
      "cell_type": "code",
      "source": [
        "lr.score(X_train,y_train)"
      ],
      "metadata": {
        "colab": {
          "base_uri": "https://localhost:8080/"
        },
        "id": "3h5JYfy1kA5o",
        "outputId": "d2677747-247d-43bb-b07e-f178000ef833"
      },
      "execution_count": 40,
      "outputs": [
        {
          "output_type": "execute_result",
          "data": {
            "text/plain": [
              "0.9403650204419233"
            ]
          },
          "metadata": {},
          "execution_count": 40
        }
      ]
    },
    {
      "cell_type": "code",
      "source": [
        "lr.intercept_"
      ],
      "metadata": {
        "colab": {
          "base_uri": "https://localhost:8080/"
        },
        "id": "iJUjCwDskIYR",
        "outputId": "584f8a00-d984-470f-a8c3-ab008f5ee849"
      },
      "execution_count": 41,
      "outputs": [
        {
          "output_type": "execute_result",
          "data": {
            "text/plain": [
              "-58875444889.93402"
            ]
          },
          "metadata": {},
          "execution_count": 41
        }
      ]
    },
    {
      "cell_type": "code",
      "source": [
        "lr.coef_"
      ],
      "metadata": {
        "colab": {
          "base_uri": "https://localhost:8080/"
        },
        "id": "knURNMFXkM04",
        "outputId": "3a22c877-8ce0-4234-a684-fad6532668ca"
      },
      "execution_count": 42,
      "outputs": [
        {
          "output_type": "execute_result",
          "data": {
            "text/plain": [
              "array([3.05309444e-01, 7.90575959e+12, 1.09921214e+13, 1.09921214e+13,\n",
              "       1.09921214e+13, 1.09921214e+13, 1.09921214e+13, 1.09921214e+13,\n",
              "       1.09921214e+13, 1.09921214e+13, 1.09921214e+13, 1.09921214e+13,\n",
              "       1.09921214e+13, 1.09921214e+13, 1.09921214e+13, 1.09921214e+13,\n",
              "       1.05553484e+13])"
            ]
          },
          "metadata": {},
          "execution_count": 42
        }
      ]
    },
    {
      "cell_type": "code",
      "source": [
        "y_pred=lr.predict(X_test)\n",
        "print (y_pred)"
      ],
      "metadata": {
        "colab": {
          "base_uri": "https://localhost:8080/"
        },
        "id": "I1M5Bt5rkR34",
        "outputId": "b02ec115-07cb-4537-be85-91e9e7018dc9"
      },
      "execution_count": 43,
      "outputs": [
        {
          "output_type": "stream",
          "name": "stdout",
          "text": [
            "[1.41558838 2.13433838 1.83746338 2.10699463 1.79840088 1.53277588\n",
            " 2.40777588 1.24371338 1.09527588 2.31011963 2.53668213 1.97808838\n",
            " 2.16949463 1.71246338 2.67730713 2.47027588 1.82965088 1.40386963\n",
            " 2.25152588 1.75933838 1.33746338 2.02105713 2.14996338 1.77886963\n",
            " 2.34918213 1.79840088 2.45074463 1.09527588 2.00152588 1.69293213\n",
            " 2.71636963 2.46636963 1.87652588 2.21246338 1.55621338 1.75152588\n",
            " 2.49371338]\n"
          ]
        }
      ]
    },
    {
      "cell_type": "code",
      "source": [
        "def evaluation_metrics(data):\n",
        "  MSE = mean_squared_error(y_test,data)\n",
        "  RMSE = np.sqrt(MSE)\n",
        "  r2 = r2_score(y_test,data)\n",
        "  adjusted_r2 = 1-(1-r2_score(y_test,data))*(X_test.shape[0]-1)/((X_test.shape[0]-X_test.shape[1]-1))\n",
        "  print(\"The model performance for test set:\")\n",
        "  print(\"--------------------------------------\")\n",
        "  print(\"Mean Squared Error: \",MSE)\n",
        "  print(\"Root Mean Squared Error: \",RMSE)\n",
        "  print(\"R2: \",r2)\n",
        "  print(\"Adjusted R2: \",adjusted_r2)\n",
        "  return"
      ],
      "metadata": {
        "id": "vPPNt6IzkVXC"
      },
      "execution_count": 44,
      "outputs": []
    },
    {
      "cell_type": "code",
      "source": [
        "evaluation_metrics(y_pred)"
      ],
      "metadata": {
        "colab": {
          "base_uri": "https://localhost:8080/"
        },
        "id": "DaPuXi0MkYLQ",
        "outputId": "e1a770bd-a944-4c31-d5b7-d12f61a63f0b"
      },
      "execution_count": 45,
      "outputs": [
        {
          "output_type": "stream",
          "name": "stdout",
          "text": [
            "The model performance for test set:\n",
            "--------------------------------------\n",
            "Mean Squared Error:  0.008378716531125619\n",
            "Root Mean Squared Error:  0.09153532941507131\n",
            "R2:  0.9550214108859424\n",
            "Adjusted R2:  0.9147774100996803\n"
          ]
        }
      ]
    },
    {
      "cell_type": "code",
      "source": [
        "test_df['LR Predicted Closing Price'] = 10**y_pred\n",
        "test_df.head(3)"
      ],
      "metadata": {
        "colab": {
          "base_uri": "https://localhost:8080/",
          "height": 175
        },
        "id": "mlqSU-JRka0a",
        "outputId": "166eacad-946d-4dc2-dad7-ee0e2564a03c"
      },
      "execution_count": 46,
      "outputs": [
        {
          "output_type": "execute_result",
          "data": {
            "text/plain": [
              "            Actual Closing Price  LR Predicted Closing Price\n",
              "Date                                                        \n",
              "2008-04-01                 34.06                   26.036846\n",
              "2015-12-01                145.23                  136.250586\n",
              "2019-12-01                 46.95                   68.780191"
            ],
            "text/html": [
              "\n",
              "  <div id=\"df-afc08649-98be-4f10-b8e5-f4bdba6f18af\">\n",
              "    <div class=\"colab-df-container\">\n",
              "      <div>\n",
              "<style scoped>\n",
              "    .dataframe tbody tr th:only-of-type {\n",
              "        vertical-align: middle;\n",
              "    }\n",
              "\n",
              "    .dataframe tbody tr th {\n",
              "        vertical-align: top;\n",
              "    }\n",
              "\n",
              "    .dataframe thead th {\n",
              "        text-align: right;\n",
              "    }\n",
              "</style>\n",
              "<table border=\"1\" class=\"dataframe\">\n",
              "  <thead>\n",
              "    <tr style=\"text-align: right;\">\n",
              "      <th></th>\n",
              "      <th>Actual Closing Price</th>\n",
              "      <th>LR Predicted Closing Price</th>\n",
              "    </tr>\n",
              "    <tr>\n",
              "      <th>Date</th>\n",
              "      <th></th>\n",
              "      <th></th>\n",
              "    </tr>\n",
              "  </thead>\n",
              "  <tbody>\n",
              "    <tr>\n",
              "      <th>2008-04-01</th>\n",
              "      <td>34.06</td>\n",
              "      <td>26.036846</td>\n",
              "    </tr>\n",
              "    <tr>\n",
              "      <th>2015-12-01</th>\n",
              "      <td>145.23</td>\n",
              "      <td>136.250586</td>\n",
              "    </tr>\n",
              "    <tr>\n",
              "      <th>2019-12-01</th>\n",
              "      <td>46.95</td>\n",
              "      <td>68.780191</td>\n",
              "    </tr>\n",
              "  </tbody>\n",
              "</table>\n",
              "</div>\n",
              "      <button class=\"colab-df-convert\" onclick=\"convertToInteractive('df-afc08649-98be-4f10-b8e5-f4bdba6f18af')\"\n",
              "              title=\"Convert this dataframe to an interactive table.\"\n",
              "              style=\"display:none;\">\n",
              "        \n",
              "  <svg xmlns=\"http://www.w3.org/2000/svg\" height=\"24px\"viewBox=\"0 0 24 24\"\n",
              "       width=\"24px\">\n",
              "    <path d=\"M0 0h24v24H0V0z\" fill=\"none\"/>\n",
              "    <path d=\"M18.56 5.44l.94 2.06.94-2.06 2.06-.94-2.06-.94-.94-2.06-.94 2.06-2.06.94zm-11 1L8.5 8.5l.94-2.06 2.06-.94-2.06-.94L8.5 2.5l-.94 2.06-2.06.94zm10 10l.94 2.06.94-2.06 2.06-.94-2.06-.94-.94-2.06-.94 2.06-2.06.94z\"/><path d=\"M17.41 7.96l-1.37-1.37c-.4-.4-.92-.59-1.43-.59-.52 0-1.04.2-1.43.59L10.3 9.45l-7.72 7.72c-.78.78-.78 2.05 0 2.83L4 21.41c.39.39.9.59 1.41.59.51 0 1.02-.2 1.41-.59l7.78-7.78 2.81-2.81c.8-.78.8-2.07 0-2.86zM5.41 20L4 18.59l7.72-7.72 1.47 1.35L5.41 20z\"/>\n",
              "  </svg>\n",
              "      </button>\n",
              "      \n",
              "  <style>\n",
              "    .colab-df-container {\n",
              "      display:flex;\n",
              "      flex-wrap:wrap;\n",
              "      gap: 12px;\n",
              "    }\n",
              "\n",
              "    .colab-df-convert {\n",
              "      background-color: #E8F0FE;\n",
              "      border: none;\n",
              "      border-radius: 50%;\n",
              "      cursor: pointer;\n",
              "      display: none;\n",
              "      fill: #1967D2;\n",
              "      height: 32px;\n",
              "      padding: 0 0 0 0;\n",
              "      width: 32px;\n",
              "    }\n",
              "\n",
              "    .colab-df-convert:hover {\n",
              "      background-color: #E2EBFA;\n",
              "      box-shadow: 0px 1px 2px rgba(60, 64, 67, 0.3), 0px 1px 3px 1px rgba(60, 64, 67, 0.15);\n",
              "      fill: #174EA6;\n",
              "    }\n",
              "\n",
              "    [theme=dark] .colab-df-convert {\n",
              "      background-color: #3B4455;\n",
              "      fill: #D2E3FC;\n",
              "    }\n",
              "\n",
              "    [theme=dark] .colab-df-convert:hover {\n",
              "      background-color: #434B5C;\n",
              "      box-shadow: 0px 1px 3px 1px rgba(0, 0, 0, 0.15);\n",
              "      filter: drop-shadow(0px 1px 2px rgba(0, 0, 0, 0.3));\n",
              "      fill: #FFFFFF;\n",
              "    }\n",
              "  </style>\n",
              "\n",
              "      <script>\n",
              "        const buttonEl =\n",
              "          document.querySelector('#df-afc08649-98be-4f10-b8e5-f4bdba6f18af button.colab-df-convert');\n",
              "        buttonEl.style.display =\n",
              "          google.colab.kernel.accessAllowed ? 'block' : 'none';\n",
              "\n",
              "        async function convertToInteractive(key) {\n",
              "          const element = document.querySelector('#df-afc08649-98be-4f10-b8e5-f4bdba6f18af');\n",
              "          const dataTable =\n",
              "            await google.colab.kernel.invokeFunction('convertToInteractive',\n",
              "                                                     [key], {});\n",
              "          if (!dataTable) return;\n",
              "\n",
              "          const docLinkHtml = 'Like what you see? Visit the ' +\n",
              "            '<a target=\"_blank\" href=https://colab.research.google.com/notebooks/data_table.ipynb>data table notebook</a>'\n",
              "            + ' to learn more about interactive tables.';\n",
              "          element.innerHTML = '';\n",
              "          dataTable['output_type'] = 'display_data';\n",
              "          await google.colab.output.renderOutput(dataTable, element);\n",
              "          const docLink = document.createElement('div');\n",
              "          docLink.innerHTML = docLinkHtml;\n",
              "          element.appendChild(docLink);\n",
              "        }\n",
              "      </script>\n",
              "    </div>\n",
              "  </div>\n",
              "  "
            ]
          },
          "metadata": {},
          "execution_count": 46
        }
      ]
    },
    {
      "cell_type": "code",
      "source": [
        "#Mean Absolute Error\n",
        "MAE  = mean_absolute_percentage_error"
      ],
      "metadata": {
        "id": "jHsAkSW1ke4p"
      },
      "execution_count": 47,
      "outputs": []
    },
    {
      "cell_type": "code",
      "source": [
        "#Graph between Actual Close price and Predicted Price\n",
        "sns.set(style='whitegrid')\n",
        "test_df.plot(figsize = (15,7))\n",
        "plt.xlabel('Date',fontsize = 15)\n",
        "plt.ylabel('Price (₹)',fontsize = 15)\n",
        "plt.title('Actual Closing Price vs Predicted Price by Linear Regression with MAE :{:.2f}%'.format(MAE(10**y_test,10**y_pred)),fontweight = 'bold',fontsize = 14)\n",
        "plt.legend()\n",
        "plt.show()"
      ],
      "metadata": {
        "colab": {
          "base_uri": "https://localhost:8080/",
          "height": 442
        },
        "id": "-qfNRoJjkh-I",
        "outputId": "eb1d5ced-e0a4-46b7-9275-108e0476bb29"
      },
      "execution_count": 48,
      "outputs": [
        {
          "output_type": "display_data",
          "data": {
            "text/plain": [
              "<Figure size 1080x504 with 1 Axes>"
            ],
            "image/png": "[encoded data removed]"
          },
          "metadata": {}
        }
      ]
    },
    {
      "cell_type": "markdown",
      "source": [
        "**Lasso Regression**"
      ],
      "metadata": {
        "id": "t_MELRebkplq"
      }
    },
    {
      "cell_type": "code",
      "source": [
        "lasso_reg= Lasso(alpha=0.001)"
      ],
      "metadata": {
        "id": "daSBc6rgkqqg"
      },
      "execution_count": 49,
      "outputs": []
    },
    {
      "cell_type": "code",
      "source": [
        "lasso_reg.fit(X_train,y_train)"
      ],
      "metadata": {
        "colab": {
          "base_uri": "https://localhost:8080/"
        },
        "id": "VkzAe9BlkvV4",
        "outputId": "70ad232d-df8d-4e2b-fc00-5b183f72525c"
      },
      "execution_count": 50,
      "outputs": [
        {
          "output_type": "execute_result",
          "data": {
            "text/plain": [
              "Lasso(alpha=0.001)"
            ]
          },
          "metadata": {},
          "execution_count": 50
        }
      ]
    },
    {
      "cell_type": "code",
      "source": [
        "lasso_reg.score(X_train, y_train)"
      ],
      "metadata": {
        "colab": {
          "base_uri": "https://localhost:8080/"
        },
        "id": "KxqbBDYqkyWJ",
        "outputId": "f808640e-29bd-49a8-a5eb-e7a4c1a4a44c"
      },
      "execution_count": 51,
      "outputs": [
        {
          "output_type": "execute_result",
          "data": {
            "text/plain": [
              "0.9456881756779446"
            ]
          },
          "metadata": {},
          "execution_count": 51
        }
      ]
    },
    {
      "cell_type": "code",
      "source": [
        "lasso_y_pred= lasso_reg.predict(X_test)"
      ],
      "metadata": {
        "id": "6xlja1rxk1XY"
      },
      "execution_count": 52,
      "outputs": []
    },
    {
      "cell_type": "code",
      "source": [
        "#Checking model Performance using different evaluation metrics for Lasso Regression Model\n",
        "evaluation_metrics(lasso_y_pred)"
      ],
      "metadata": {
        "colab": {
          "base_uri": "https://localhost:8080/"
        },
        "id": "FVF4LAg7k4Mx",
        "outputId": "0d4b48e7-076e-4568-d732-b059f8337cce"
      },
      "execution_count": 53,
      "outputs": [
        {
          "output_type": "stream",
          "name": "stdout",
          "text": [
            "The model performance for test set:\n",
            "--------------------------------------\n",
            "Mean Squared Error:  0.009379605869086021\n",
            "Root Mean Squared Error:  0.09684836534028864\n",
            "R2:  0.9496484411579983\n",
            "Adjusted R2:  0.9045970464046283\n"
          ]
        }
      ]
    },
    {
      "cell_type": "markdown",
      "source": [
        "**Applying Cross Validation & Hyperparameter tuning on Lasso Regression**"
      ],
      "metadata": {
        "id": "kVJ4jNaZk_IB"
      }
    },
    {
      "cell_type": "code",
      "source": [
        "lasso = Lasso()\n",
        "parameters = {'alpha': [1e-15,1e-13,1e-10,1e-8,1e-5,1e-4,1e-3,1e-2,1e-1,1,5,0.0014 ]}\n",
        "lasso_regressor = GridSearchCV(lasso, parameters, scoring='neg_mean_squared_error', cv=5)\n",
        "lasso_regressor.fit(X_train, y_train)"
      ],
      "metadata": {
        "colab": {
          "base_uri": "https://localhost:8080/"
        },
        "id": "PNd3HbixlAZR",
        "outputId": "14aca34e-44f0-474e-87f7-ecdeebda328e"
      },
      "execution_count": 54,
      "outputs": [
        {
          "output_type": "execute_result",
          "data": {
            "text/plain": [
              "GridSearchCV(cv=5, estimator=Lasso(),\n",
              "             param_grid={'alpha': [1e-15, 1e-13, 1e-10, 1e-08, 1e-05, 0.0001,\n",
              "                                   0.001, 0.01, 0.1, 1, 5, 0.0014]},\n",
              "             scoring='neg_mean_squared_error')"
            ]
          },
          "metadata": {},
          "execution_count": 54
        }
      ]
    },
    {
      "cell_type": "code",
      "source": [
        "print( \"The best fit alpha value is found out to be :\" ,lasso_regressor.best_params_)\n",
        "print(\"\\nUsing \",lasso_regressor.best_params_, \" the negative mean squared error is: \", lasso_regressor.best_score_)"
      ],
      "metadata": {
        "colab": {
          "base_uri": "https://localhost:8080/"
        },
        "id": "_X1aAL0HlIbA",
        "outputId": "571d5680-494a-42fd-81a1-e9746aa1b57c"
      },
      "execution_count": 55,
      "outputs": [
        {
          "output_type": "stream",
          "name": "stdout",
          "text": [
            "The best fit alpha value is found out to be : {'alpha': 0.0014}\n",
            "\n",
            "Using  {'alpha': 0.0014}  the negative mean squared error is:  -0.01263071552015855\n"
          ]
        }
      ]
    },
    {
      "cell_type": "code",
      "source": [
        "y_pred_lasso= lasso_regressor.predict(X_test)"
      ],
      "metadata": {
        "id": "r23wutkflLpQ"
      },
      "execution_count": 56,
      "outputs": []
    },
    {
      "cell_type": "code",
      "source": [
        "#Getting evaluation metrics for Lasso CV\n",
        "evaluation_metrics(y_pred_lasso)"
      ],
      "metadata": {
        "colab": {
          "base_uri": "https://localhost:8080/"
        },
        "id": "cMKFMZaDlPNp",
        "outputId": "f689de34-46e5-4e6c-8fec-b77b5dd008e7"
      },
      "execution_count": 57,
      "outputs": [
        {
          "output_type": "stream",
          "name": "stdout",
          "text": [
            "The model performance for test set:\n",
            "--------------------------------------\n",
            "Mean Squared Error:  0.009376701436556797\n",
            "Root Mean Squared Error:  0.09683336943717696\n",
            "R2:  0.9496640327198869\n",
            "Adjusted R2:  0.9046265883113646\n"
          ]
        }
      ]
    },
    {
      "cell_type": "code",
      "source": [
        "# Data frame for Actual closing price and Lasso Predicted Closing Price \n",
        "test_df['Lasso Predicted Closing Price']= 10**y_pred_lasso\n",
        "lasso_df= test_df.loc[:, ['Actual Closing Price', 'Lasso Predicted Closing Price']]\n",
        "lasso_df.head()"
      ],
      "metadata": {
        "colab": {
          "base_uri": "https://localhost:8080/",
          "height": 238
        },
        "id": "YImiSJ-dlXjA",
        "outputId": "65f6910c-948d-4c09-e03f-6506d2338865"
      },
      "execution_count": 58,
      "outputs": [
        {
          "output_type": "execute_result",
          "data": {
            "text/plain": [
              "            Actual Closing Price  Lasso Predicted Closing Price\n",
              "Date                                                           \n",
              "2008-04-01                 34.06                      26.365934\n",
              "2015-12-01                145.23                     144.313848\n",
              "2019-12-01                 46.95                      59.849779\n",
              "2014-11-01                142.08                     135.358269\n",
              "2010-08-01                 62.22                      60.649159"
            ],
            "text/html": [
              "\n",
              "  <div id=\"df-970495e9-d909-4bea-9078-2e7c1fc0d5b1\">\n",
              "    <div class=\"colab-df-container\">\n",
              "      <div>\n",
              "<style scoped>\n",
              "    .dataframe tbody tr th:only-of-type {\n",
              "        vertical-align: middle;\n",
              "    }\n",
              "\n",
              "    .dataframe tbody tr th {\n",
              "        vertical-align: top;\n",
              "    }\n",
              "\n",
              "    .dataframe thead th {\n",
              "        text-align: right;\n",
              "    }\n",
              "</style>\n",
              "<table border=\"1\" class=\"dataframe\">\n",
              "  <thead>\n",
              "    <tr style=\"text-align: right;\">\n",
              "      <th></th>\n",
              "      <th>Actual Closing Price</th>\n",
              "      <th>Lasso Predicted Closing Price</th>\n",
              "    </tr>\n",
              "    <tr>\n",
              "      <th>Date</th>\n",
              "      <th></th>\n",
              "      <th></th>\n",
              "    </tr>\n",
              "  </thead>\n",
              "  <tbody>\n",
              "    <tr>\n",
              "      <th>2008-04-01</th>\n",
              "      <td>34.06</td>\n",
              "      <td>26.365934</td>\n",
              "    </tr>\n",
              "    <tr>\n",
              "      <th>2015-12-01</th>\n",
              "      <td>145.23</td>\n",
              "      <td>144.313848</td>\n",
              "    </tr>\n",
              "    <tr>\n",
              "      <th>2019-12-01</th>\n",
              "      <td>46.95</td>\n",
              "      <td>59.849779</td>\n",
              "    </tr>\n",
              "    <tr>\n",
              "      <th>2014-11-01</th>\n",
              "      <td>142.08</td>\n",
              "      <td>135.358269</td>\n",
              "    </tr>\n",
              "    <tr>\n",
              "      <th>2010-08-01</th>\n",
              "      <td>62.22</td>\n",
              "      <td>60.649159</td>\n",
              "    </tr>\n",
              "  </tbody>\n",
              "</table>\n",
              "</div>\n",
              "      <button class=\"colab-df-convert\" onclick=\"convertToInteractive('df-970495e9-d909-4bea-9078-2e7c1fc0d5b1')\"\n",
              "              title=\"Convert this dataframe to an interactive table.\"\n",
              "              style=\"display:none;\">\n",
              "        \n",
              "  <svg xmlns=\"http://www.w3.org/2000/svg\" height=\"24px\"viewBox=\"0 0 24 24\"\n",
              "       width=\"24px\">\n",
              "    <path d=\"M0 0h24v24H0V0z\" fill=\"none\"/>\n",
              "    <path d=\"M18.56 5.44l.94 2.06.94-2.06 2.06-.94-2.06-.94-.94-2.06-.94 2.06-2.06.94zm-11 1L8.5 8.5l.94-2.06 2.06-.94-2.06-.94L8.5 2.5l-.94 2.06-2.06.94zm10 10l.94 2.06.94-2.06 2.06-.94-2.06-.94-.94-2.06-.94 2.06-2.06.94z\"/><path d=\"M17.41 7.96l-1.37-1.37c-.4-.4-.92-.59-1.43-.59-.52 0-1.04.2-1.43.59L10.3 9.45l-7.72 7.72c-.78.78-.78 2.05 0 2.83L4 21.41c.39.39.9.59 1.41.59.51 0 1.02-.2 1.41-.59l7.78-7.78 2.81-2.81c.8-.78.8-2.07 0-2.86zM5.41 20L4 18.59l7.72-7.72 1.47 1.35L5.41 20z\"/>\n",
              "  </svg>\n",
              "      </button>\n",
              "      \n",
              "  <style>\n",
              "    .colab-df-container {\n",
              "      display:flex;\n",
              "      flex-wrap:wrap;\n",
              "      gap: 12px;\n",
              "    }\n",
              "\n",
              "    .colab-df-convert {\n",
              "      background-color: #E8F0FE;\n",
              "      border: none;\n",
              "      border-radius: 50%;\n",
              "      cursor: pointer;\n",
              "      display: none;\n",
              "      fill: #1967D2;\n",
              "      height: 32px;\n",
              "      padding: 0 0 0 0;\n",
              "      width: 32px;\n",
              "    }\n",
              "\n",
              "    .colab-df-convert:hover {\n",
              "      background-color: #E2EBFA;\n",
              "      box-shadow: 0px 1px 2px rgba(60, 64, 67, 0.3), 0px 1px 3px 1px rgba(60, 64, 67, 0.15);\n",
              "      fill: #174EA6;\n",
              "    }\n",
              "\n",
              "    [theme=dark] .colab-df-convert {\n",
              "      background-color: #3B4455;\n",
              "      fill: #D2E3FC;\n",
              "    }\n",
              "\n",
              "    [theme=dark] .colab-df-convert:hover {\n",
              "      background-color: #434B5C;\n",
              "      box-shadow: 0px 1px 3px 1px rgba(0, 0, 0, 0.15);\n",
              "      filter: drop-shadow(0px 1px 2px rgba(0, 0, 0, 0.3));\n",
              "      fill: #FFFFFF;\n",
              "    }\n",
              "  </style>\n",
              "\n",
              "      <script>\n",
              "        const buttonEl =\n",
              "          document.querySelector('#df-970495e9-d909-4bea-9078-2e7c1fc0d5b1 button.colab-df-convert');\n",
              "        buttonEl.style.display =\n",
              "          google.colab.kernel.accessAllowed ? 'block' : 'none';\n",
              "\n",
              "        async function convertToInteractive(key) {\n",
              "          const element = document.querySelector('#df-970495e9-d909-4bea-9078-2e7c1fc0d5b1');\n",
              "          const dataTable =\n",
              "            await google.colab.kernel.invokeFunction('convertToInteractive',\n",
              "                                                     [key], {});\n",
              "          if (!dataTable) return;\n",
              "\n",
              "          const docLinkHtml = 'Like what you see? Visit the ' +\n",
              "            '<a target=\"_blank\" href=https://colab.research.google.com/notebooks/data_table.ipynb>data table notebook</a>'\n",
              "            + ' to learn more about interactive tables.';\n",
              "          element.innerHTML = '';\n",
              "          dataTable['output_type'] = 'display_data';\n",
              "          await google.colab.output.renderOutput(dataTable, element);\n",
              "          const docLink = document.createElement('div');\n",
              "          docLink.innerHTML = docLinkHtml;\n",
              "          element.appendChild(docLink);\n",
              "        }\n",
              "      </script>\n",
              "    </div>\n",
              "  </div>\n",
              "  "
            ]
          },
          "metadata": {},
          "execution_count": 58
        }
      ]
    },
    {
      "cell_type": "code",
      "source": [
        "#Graph between Actual Close price and Lasso Regression Predicted Price\n",
        "lasso_df.plot(figsize = (15,7))\n",
        "plt.xlabel('Date',fontsize = 15)\n",
        "plt.ylabel('Price (₹)',fontsize = 15)\n",
        "plt.title('Actual Closing Price vs Predicted Price by Lasso Regression with MAE :{:.2f}%'.format(MAE(10**y_test,10**y_pred_lasso)),fontweight = 'bold',fontsize = 14)\n",
        "plt.legend()\n",
        "plt.show()"
      ],
      "metadata": {
        "colab": {
          "base_uri": "https://localhost:8080/",
          "height": 442
        },
        "id": "UPFZ-DzSla-x",
        "outputId": "b2f063c6-0a6d-460d-aa9b-de973222d310"
      },
      "execution_count": 59,
      "outputs": [
        {
          "output_type": "display_data",
          "data": {
            "text/plain": [
              "<Figure size 1080x504 with 1 Axes>"
            ],
            "image/png": "[encoded data removed]"
          },
          "metadata": {}
        }
      ]
    },
    {
      "cell_type": "markdown",
      "source": [
        "**Ridge Regression**"
      ],
      "metadata": {
        "id": "U1MG0g8fR-44"
      }
    },
    {
      "cell_type": "code",
      "source": [
        "#Fitting the data into Ridge regression model\n",
        "ridge_reg= Ridge(alpha= 0.1)\n",
        "ridge_reg.fit(X_train, y_train)"
      ],
      "metadata": {
        "colab": {
          "base_uri": "https://localhost:8080/"
        },
        "id": "LHUr2GW2SCiS",
        "outputId": "884a64db-a1fa-48d8-853c-0960dc62e0e3"
      },
      "execution_count": 60,
      "outputs": [
        {
          "output_type": "execute_result",
          "data": {
            "text/plain": [
              "Ridge(alpha=0.1)"
            ]
          },
          "metadata": {},
          "execution_count": 60
        }
      ]
    },
    {
      "cell_type": "code",
      "source": [
        "ridge_reg.score(X_train, y_train)"
      ],
      "metadata": {
        "colab": {
          "base_uri": "https://localhost:8080/"
        },
        "id": "NIuZ8vDySJyD",
        "outputId": "85185e39-e186-4597-d4d0-42c871a10a65"
      },
      "execution_count": 61,
      "outputs": [
        {
          "output_type": "execute_result",
          "data": {
            "text/plain": [
              "0.9457766805321504"
            ]
          },
          "metadata": {},
          "execution_count": 61
        }
      ]
    },
    {
      "cell_type": "code",
      "source": [
        "y_pred_r= ridge_reg.predict(X_test)"
      ],
      "metadata": {
        "id": "24QKysb-SM9M"
      },
      "execution_count": 62,
      "outputs": []
    },
    {
      "cell_type": "code",
      "source": [
        "#Getting evaluation metrics for Ridge regression\n",
        "evaluation_metrics(y_pred_r)"
      ],
      "metadata": {
        "colab": {
          "base_uri": "https://localhost:8080/"
        },
        "id": "pSrUs8wySRIr",
        "outputId": "2e0c9a94-849f-4570-b904-d236af7fc9fc"
      },
      "execution_count": 63,
      "outputs": [
        {
          "output_type": "stream",
          "name": "stdout",
          "text": [
            "The model performance for test set:\n",
            "--------------------------------------\n",
            "Mean Squared Error:  0.009365359873489867\n",
            "Root Mean Squared Error:  0.0967747894520565\n",
            "R2:  0.9497249164487018\n",
            "Adjusted R2:  0.9047419469554351\n"
          ]
        }
      ]
    },
    {
      "cell_type": "markdown",
      "source": [
        "**Applying Cross Validation & Hyperparameter tuning on Ridge Regression**"
      ],
      "metadata": {
        "id": "A4LwJ95cSX8K"
      }
    },
    {
      "cell_type": "code",
      "source": [
        "# Hyperprarameter tuning\n",
        "ridge = Ridge()\n",
        "parameters = {'alpha': [1e-15,1e-10,1e-8,1e-5,1e-4,1e-3,1e-2,1,2,3,4,5,10,20,30,40,45,50,55,60,100]}\n",
        "ridge_regressor = GridSearchCV(ridge, parameters, scoring='neg_mean_squared_error', cv=5)\n",
        "ridge_regressor.fit(X_train, y_train)"
      ],
      "metadata": {
        "colab": {
          "base_uri": "https://localhost:8080/"
        },
        "id": "sWVfFrouSZb6",
        "outputId": "8f6129ea-c6c9-4687-d276-4aba7add0357"
      },
      "execution_count": 64,
      "outputs": [
        {
          "output_type": "execute_result",
          "data": {
            "text/plain": [
              "GridSearchCV(cv=5, estimator=Ridge(),\n",
              "             param_grid={'alpha': [1e-15, 1e-10, 1e-08, 1e-05, 0.0001, 0.001,\n",
              "                                   0.01, 1, 2, 3, 4, 5, 10, 20, 30, 40, 45, 50,\n",
              "                                   55, 60, 100]},\n",
              "             scoring='neg_mean_squared_error')"
            ]
          },
          "metadata": {},
          "execution_count": 64
        }
      ]
    },
    {
      "cell_type": "code",
      "source": [
        "print( \"The best fit alpha value is found out to be :\" ,ridge_regressor.best_params_)\n",
        "print(\"\\nUsing \",ridge_regressor.best_params_, \" the negative mean squared error is: \", ridge_regressor.best_score_)"
      ],
      "metadata": {
        "colab": {
          "base_uri": "https://localhost:8080/"
        },
        "id": "vcgsEWsKShCy",
        "outputId": "65010b29-db16-400f-843d-e999b1e43e43"
      },
      "execution_count": 65,
      "outputs": [
        {
          "output_type": "stream",
          "name": "stdout",
          "text": [
            "The best fit alpha value is found out to be : {'alpha': 3}\n",
            "\n",
            "Using  {'alpha': 3}  the negative mean squared error is:  -0.012538304166010358\n"
          ]
        }
      ]
    },
    {
      "cell_type": "code",
      "source": [
        "y_pred_ridge= ridge_regressor.predict(X_test)"
      ],
      "metadata": {
        "id": "azXdqVkKSwrr"
      },
      "execution_count": 66,
      "outputs": []
    },
    {
      "cell_type": "code",
      "source": [
        "#Getting evaluation metrics for Ridge regression CV\n",
        "evaluation_metrics(y_pred_ridge)"
      ],
      "metadata": {
        "colab": {
          "base_uri": "https://localhost:8080/"
        },
        "id": "TEsj8b5HSzli",
        "outputId": "9d06894e-2f1a-48ca-f535-0a0e41dcef40"
      },
      "execution_count": 67,
      "outputs": [
        {
          "output_type": "stream",
          "name": "stdout",
          "text": [
            "The model performance for test set:\n",
            "--------------------------------------\n",
            "Mean Squared Error:  0.008847513525776934\n",
            "Root Mean Squared Error:  0.09406122222136461\n",
            "R2:  0.9525048169276678\n",
            "Adjusted R2:  0.9100091268103179\n"
          ]
        }
      ]
    },
    {
      "cell_type": "code",
      "source": [
        "# Data frame for Actual closing price and Ridge Predicted Closing Price \n",
        "test_df['Ridge Predicted Closing Price']= 10**y_pred_ridge\n",
        "ridge_df= test_df.loc[:, ['Actual Closing Price', 'Ridge Predicted Closing Price']]\n",
        "ridge_df.head()"
      ],
      "metadata": {
        "colab": {
          "base_uri": "https://localhost:8080/",
          "height": 238
        },
        "id": "NHe9fh18S4Dy",
        "outputId": "3b98eeef-1aea-4fd1-8487-beea9cd3fb31"
      },
      "execution_count": 68,
      "outputs": [
        {
          "output_type": "execute_result",
          "data": {
            "text/plain": [
              "            Actual Closing Price  Ridge Predicted Closing Price\n",
              "Date                                                           \n",
              "2008-04-01                 34.06                      26.142190\n",
              "2015-12-01                145.23                     146.673951\n",
              "2019-12-01                 46.95                      64.154295\n",
              "2014-11-01                142.08                     129.931358\n",
              "2010-08-01                 62.22                      60.731005"
            ],
            "text/html": [
              "\n",
              "  <div id=\"df-0a698b41-8c76-4673-8c85-9fd884c361eb\">\n",
              "    <div class=\"colab-df-container\">\n",
              "      <div>\n",
              "<style scoped>\n",
              "    .dataframe tbody tr th:only-of-type {\n",
              "        vertical-align: middle;\n",
              "    }\n",
              "\n",
              "    .dataframe tbody tr th {\n",
              "        vertical-align: top;\n",
              "    }\n",
              "\n",
              "    .dataframe thead th {\n",
              "        text-align: right;\n",
              "    }\n",
              "</style>\n",
              "<table border=\"1\" class=\"dataframe\">\n",
              "  <thead>\n",
              "    <tr style=\"text-align: right;\">\n",
              "      <th></th>\n",
              "      <th>Actual Closing Price</th>\n",
              "      <th>Ridge Predicted Closing Price</th>\n",
              "    </tr>\n",
              "    <tr>\n",
              "      <th>Date</th>\n",
              "      <th></th>\n",
              "      <th></th>\n",
              "    </tr>\n",
              "  </thead>\n",
              "  <tbody>\n",
              "    <tr>\n",
              "      <th>2008-04-01</th>\n",
              "      <td>34.06</td>\n",
              "      <td>26.142190</td>\n",
              "    </tr>\n",
              "    <tr>\n",
              "      <th>2015-12-01</th>\n",
              "      <td>145.23</td>\n",
              "      <td>146.673951</td>\n",
              "    </tr>\n",
              "    <tr>\n",
              "      <th>2019-12-01</th>\n",
              "      <td>46.95</td>\n",
              "      <td>64.154295</td>\n",
              "    </tr>\n",
              "    <tr>\n",
              "      <th>2014-11-01</th>\n",
              "      <td>142.08</td>\n",
              "      <td>129.931358</td>\n",
              "    </tr>\n",
              "    <tr>\n",
              "      <th>2010-08-01</th>\n",
              "      <td>62.22</td>\n",
              "      <td>60.731005</td>\n",
              "    </tr>\n",
              "  </tbody>\n",
              "</table>\n",
              "</div>\n",
              "      <button class=\"colab-df-convert\" onclick=\"convertToInteractive('df-0a698b41-8c76-4673-8c85-9fd884c361eb')\"\n",
              "              title=\"Convert this dataframe to an interactive table.\"\n",
              "              style=\"display:none;\">\n",
              "        \n",
              "  <svg xmlns=\"http://www.w3.org/2000/svg\" height=\"24px\"viewBox=\"0 0 24 24\"\n",
              "       width=\"24px\">\n",
              "    <path d=\"M0 0h24v24H0V0z\" fill=\"none\"/>\n",
              "    <path d=\"M18.56 5.44l.94 2.06.94-2.06 2.06-.94-2.06-.94-.94-2.06-.94 2.06-2.06.94zm-11 1L8.5 8.5l.94-2.06 2.06-.94-2.06-.94L8.5 2.5l-.94 2.06-2.06.94zm10 10l.94 2.06.94-2.06 2.06-.94-2.06-.94-.94-2.06-.94 2.06-2.06.94z\"/><path d=\"M17.41 7.96l-1.37-1.37c-.4-.4-.92-.59-1.43-.59-.52 0-1.04.2-1.43.59L10.3 9.45l-7.72 7.72c-.78.78-.78 2.05 0 2.83L4 21.41c.39.39.9.59 1.41.59.51 0 1.02-.2 1.41-.59l7.78-7.78 2.81-2.81c.8-.78.8-2.07 0-2.86zM5.41 20L4 18.59l7.72-7.72 1.47 1.35L5.41 20z\"/>\n",
              "  </svg>\n",
              "      </button>\n",
              "      \n",
              "  <style>\n",
              "    .colab-df-container {\n",
              "      display:flex;\n",
              "      flex-wrap:wrap;\n",
              "      gap: 12px;\n",
              "    }\n",
              "\n",
              "    .colab-df-convert {\n",
              "      background-color: #E8F0FE;\n",
              "      border: none;\n",
              "      border-radius: 50%;\n",
              "      cursor: pointer;\n",
              "      display: none;\n",
              "      fill: #1967D2;\n",
              "      height: 32px;\n",
              "      padding: 0 0 0 0;\n",
              "      width: 32px;\n",
              "    }\n",
              "\n",
              "    .colab-df-convert:hover {\n",
              "      background-color: #E2EBFA;\n",
              "      box-shadow: 0px 1px 2px rgba(60, 64, 67, 0.3), 0px 1px 3px 1px rgba(60, 64, 67, 0.15);\n",
              "      fill: #174EA6;\n",
              "    }\n",
              "\n",
              "    [theme=dark] .colab-df-convert {\n",
              "      background-color: #3B4455;\n",
              "      fill: #D2E3FC;\n",
              "    }\n",
              "\n",
              "    [theme=dark] .colab-df-convert:hover {\n",
              "      background-color: #434B5C;\n",
              "      box-shadow: 0px 1px 3px 1px rgba(0, 0, 0, 0.15);\n",
              "      filter: drop-shadow(0px 1px 2px rgba(0, 0, 0, 0.3));\n",
              "      fill: #FFFFFF;\n",
              "    }\n",
              "  </style>\n",
              "\n",
              "      <script>\n",
              "        const buttonEl =\n",
              "          document.querySelector('#df-0a698b41-8c76-4673-8c85-9fd884c361eb button.colab-df-convert');\n",
              "        buttonEl.style.display =\n",
              "          google.colab.kernel.accessAllowed ? 'block' : 'none';\n",
              "\n",
              "        async function convertToInteractive(key) {\n",
              "          const element = document.querySelector('#df-0a698b41-8c76-4673-8c85-9fd884c361eb');\n",
              "          const dataTable =\n",
              "            await google.colab.kernel.invokeFunction('convertToInteractive',\n",
              "                                                     [key], {});\n",
              "          if (!dataTable) return;\n",
              "\n",
              "          const docLinkHtml = 'Like what you see? Visit the ' +\n",
              "            '<a target=\"_blank\" href=https://colab.research.google.com/notebooks/data_table.ipynb>data table notebook</a>'\n",
              "            + ' to learn more about interactive tables.';\n",
              "          element.innerHTML = '';\n",
              "          dataTable['output_type'] = 'display_data';\n",
              "          await google.colab.output.renderOutput(dataTable, element);\n",
              "          const docLink = document.createElement('div');\n",
              "          docLink.innerHTML = docLinkHtml;\n",
              "          element.appendChild(docLink);\n",
              "        }\n",
              "      </script>\n",
              "    </div>\n",
              "  </div>\n",
              "  "
            ]
          },
          "metadata": {},
          "execution_count": 68
        }
      ]
    },
    {
      "cell_type": "code",
      "source": [
        "#Graph between Actual Close price and Ridge Regression Predicted Price\n",
        "ridge_df.plot(figsize = (15,7))\n",
        "plt.xlabel('Date',fontsize = 15)\n",
        "plt.ylabel('Price (₹)',fontsize = 15)\n",
        "plt.title('Actual Closing Price vs Predicted Price by Ridge Regression with MAE :{:.2f}%'.format(MAE(10**y_test,10**y_pred_ridge)),fontweight = 'bold',fontsize = 14)\n",
        "plt.legend()\n",
        "plt.show()"
      ],
      "metadata": {
        "colab": {
          "base_uri": "https://localhost:8080/",
          "height": 442
        },
        "id": "SK5cCiSqS9gO",
        "outputId": "e95e89f3-613e-44be-e8f8-6028f44576f0"
      },
      "execution_count": 69,
      "outputs": [
        {
          "output_type": "display_data",
          "data": {
            "text/plain": [
              "<Figure size 1080x504 with 1 Axes>"
            ],
            "image/png": "[encoded data removed]"
          },
          "metadata": {}
        }
      ]
    },
    {
      "cell_type": "markdown",
      "source": [
        "**Elastic Net Regression**"
      ],
      "metadata": {
        "id": "-fZ10hxzTGhs"
      }
    },
    {
      "cell_type": "code",
      "source": [
        "#Fitting the Data into ElasticeNet model\n",
        "elasticnet_reg = ElasticNet(alpha= 0.01)\n",
        "elasticnet_reg.fit(X_train, y_train)"
      ],
      "metadata": {
        "colab": {
          "base_uri": "https://localhost:8080/"
        },
        "id": "0h0--XE3TEeT",
        "outputId": "f3ee0e54-ec8f-42f7-e040-9cdc8c80953d"
      },
      "execution_count": 70,
      "outputs": [
        {
          "output_type": "execute_result",
          "data": {
            "text/plain": [
              "ElasticNet(alpha=0.01)"
            ]
          },
          "metadata": {},
          "execution_count": 70
        }
      ]
    },
    {
      "cell_type": "code",
      "source": [
        "elasticnet_reg.score(X_train, y_train)"
      ],
      "metadata": {
        "colab": {
          "base_uri": "https://localhost:8080/"
        },
        "id": "JIbgQkFCTPez",
        "outputId": "27faa22c-32d6-41e5-c263-a2ee7bdd23fb"
      },
      "execution_count": 71,
      "outputs": [
        {
          "output_type": "execute_result",
          "data": {
            "text/plain": [
              "0.9437158786955572"
            ]
          },
          "metadata": {},
          "execution_count": 71
        }
      ]
    }
  ],
  "metadata": {
    "colab": {
      "collapsed_sections": [],
      "name": "Yes _Bank _Stock_Predication.ipynb",
      "provenance": [],
      "authorship_tag": "ABX9TyOY4ATKmoywS3GKIY++S1kP",
      "include_colab_link": true
    },
    "kernelspec": {
      "display_name": "Python 3",
      "name": "python3"
    },
    "language_info": {
      "name": "python"
    }
  },
  "nbformat": 4,
  "nbformat_minor": 0
}